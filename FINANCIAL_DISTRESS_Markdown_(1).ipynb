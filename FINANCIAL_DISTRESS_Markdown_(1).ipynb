{
  "cells": [
    {
      "cell_type": "code",
      "execution_count": null,
      "metadata": {
        "ExecuteTime": {
          "end_time": "2025-01-02T20:37:56.081095Z",
          "start_time": "2025-01-02T20:37:53.200380Z"
        },
        "_cell_guid": "2410ea3d-9502-4dbf-b781-ecf60c802d5b",
        "_kg_hide-output": true,
        "_uuid": "8d47f3fd23eee3a43e0a1759f692d518a51abfbe",
        "id": "O8PUgg-kHARZ"
      },
      "outputs": [],
      "source": [
        "# Importing the libraries\n",
        "import numpy as np\n",
        "import pandas as pd\n",
        "import matplotlib.pyplot as plt\n",
        "import os\n",
        "import io\n",
        "import random\n",
        "from subprocess import check_output\n",
        "\n"
      ]
    },
    {
      "cell_type": "code",
      "source": [
        "pip install xgboost==1.7.6"
      ],
      "metadata": {
        "colab": {
          "base_uri": "https://localhost:8080/",
          "height": 321
        },
        "id": "X4l9bFfhZ73Y",
        "outputId": "adc8c553-73e0-4b9c-8ca5-a0eaa002986b"
      },
      "execution_count": null,
      "outputs": [
        {
          "output_type": "stream",
          "name": "stdout",
          "text": [
            "Collecting xgboost==1.7.6\n",
            "  Downloading xgboost-1.7.6-py3-none-manylinux2014_x86_64.whl.metadata (1.9 kB)\n",
            "Requirement already satisfied: numpy in /usr/local/lib/python3.10/dist-packages (from xgboost==1.7.6) (1.26.4)\n",
            "Requirement already satisfied: scipy in /usr/local/lib/python3.10/dist-packages (from xgboost==1.7.6) (1.13.1)\n",
            "Downloading xgboost-1.7.6-py3-none-manylinux2014_x86_64.whl (200.3 MB)\n",
            "\u001b[2K   \u001b[90m━━━━━━━━━━━━━━━━━━━━━━━━━━━━━━━━━━━━━━━━\u001b[0m \u001b[32m200.3/200.3 MB\u001b[0m \u001b[31m3.4 MB/s\u001b[0m eta \u001b[36m0:00:00\u001b[0m\n",
            "\u001b[?25hInstalling collected packages: xgboost\n",
            "  Attempting uninstall: xgboost\n",
            "    Found existing installation: xgboost 2.1.3\n",
            "    Uninstalling xgboost-2.1.3:\n",
            "      Successfully uninstalled xgboost-2.1.3\n",
            "Successfully installed xgboost-1.7.6\n"
          ]
        },
        {
          "output_type": "display_data",
          "data": {
            "application/vnd.colab-display-data+json": {
              "pip_warning": {
                "packages": [
                  "xgboost"
                ]
              },
              "id": "62ba80581f564ebfa0e44e57106b544b"
            }
          },
          "metadata": {}
        }
      ]
    },
    {
      "cell_type": "code",
      "source": [
        "pip install scikit-learn==1.2.0"
      ],
      "metadata": {
        "colab": {
          "base_uri": "https://localhost:8080/",
          "height": 428
        },
        "id": "vHZeFTsiZYS2",
        "outputId": "5259d153-2bfc-4cae-d758-2cd67befb527"
      },
      "execution_count": null,
      "outputs": [
        {
          "output_type": "stream",
          "name": "stdout",
          "text": [
            "Collecting scikit-learn==1.2.0\n",
            "  Downloading scikit_learn-1.2.0-cp310-cp310-manylinux_2_17_x86_64.manylinux2014_x86_64.whl.metadata (11 kB)\n",
            "Requirement already satisfied: numpy>=1.17.3 in /usr/local/lib/python3.10/dist-packages (from scikit-learn==1.2.0) (1.26.4)\n",
            "Requirement already satisfied: scipy>=1.3.2 in /usr/local/lib/python3.10/dist-packages (from scikit-learn==1.2.0) (1.13.1)\n",
            "Requirement already satisfied: joblib>=1.1.1 in /usr/local/lib/python3.10/dist-packages (from scikit-learn==1.2.0) (1.4.2)\n",
            "Requirement already satisfied: threadpoolctl>=2.0.0 in /usr/local/lib/python3.10/dist-packages (from scikit-learn==1.2.0) (3.5.0)\n",
            "Downloading scikit_learn-1.2.0-cp310-cp310-manylinux_2_17_x86_64.manylinux2014_x86_64.whl (9.5 MB)\n",
            "\u001b[2K   \u001b[90m━━━━━━━━━━━━━━━━━━━━━━━━━━━━━━━━━━━━━━━━\u001b[0m \u001b[32m9.5/9.5 MB\u001b[0m \u001b[31m27.0 MB/s\u001b[0m eta \u001b[36m0:00:00\u001b[0m\n",
            "\u001b[?25hInstalling collected packages: scikit-learn\n",
            "  Attempting uninstall: scikit-learn\n",
            "    Found existing installation: scikit-learn 1.2.2\n",
            "    Uninstalling scikit-learn-1.2.2:\n",
            "      Successfully uninstalled scikit-learn-1.2.2\n",
            "\u001b[31mERROR: pip's dependency resolver does not currently take into account all the packages that are installed. This behaviour is the source of the following dependency conflicts.\n",
            "bigframes 1.31.0 requires scikit-learn>=1.2.2, but you have scikit-learn 1.2.0 which is incompatible.\n",
            "mlxtend 0.23.3 requires scikit-learn>=1.3.1, but you have scikit-learn 1.2.0 which is incompatible.\u001b[0m\u001b[31m\n",
            "\u001b[0mSuccessfully installed scikit-learn-1.2.0\n"
          ]
        },
        {
          "output_type": "display_data",
          "data": {
            "application/vnd.colab-display-data+json": {
              "pip_warning": {
                "packages": [
                  "sklearn"
                ]
              },
              "id": "aabb503a652e4a7693b384759d003cb2"
            }
          },
          "metadata": {}
        }
      ]
    },
    {
      "cell_type": "code",
      "source": [
        "pip install imbalanced-learn==0.10.1"
      ],
      "metadata": {
        "colab": {
          "base_uri": "https://localhost:8080/"
        },
        "id": "DoA9o3FDfIns",
        "outputId": "ca65c0dc-af7c-47b1-fd7f-e194991c5c1f"
      },
      "execution_count": null,
      "outputs": [
        {
          "output_type": "stream",
          "name": "stdout",
          "text": [
            "Collecting imbalanced-learn==0.10.1\n",
            "  Downloading imbalanced_learn-0.10.1-py3-none-any.whl.metadata (8.2 kB)\n",
            "Requirement already satisfied: numpy>=1.17.3 in /usr/local/lib/python3.10/dist-packages (from imbalanced-learn==0.10.1) (1.26.4)\n",
            "Requirement already satisfied: scipy>=1.3.2 in /usr/local/lib/python3.10/dist-packages (from imbalanced-learn==0.10.1) (1.13.1)\n",
            "Requirement already satisfied: scikit-learn>=1.0.2 in /usr/local/lib/python3.10/dist-packages (from imbalanced-learn==0.10.1) (1.2.0)\n",
            "Requirement already satisfied: joblib>=1.1.1 in /usr/local/lib/python3.10/dist-packages (from imbalanced-learn==0.10.1) (1.4.2)\n",
            "Requirement already satisfied: threadpoolctl>=2.0.0 in /usr/local/lib/python3.10/dist-packages (from imbalanced-learn==0.10.1) (3.5.0)\n",
            "Downloading imbalanced_learn-0.10.1-py3-none-any.whl (226 kB)\n",
            "\u001b[2K   \u001b[90m━━━━━━━━━━━━━━━━━━━━━━━━━━━━━━━━━━━━━━━━\u001b[0m \u001b[32m226.0/226.0 kB\u001b[0m \u001b[31m2.6 MB/s\u001b[0m eta \u001b[36m0:00:00\u001b[0m\n",
            "\u001b[?25hInstalling collected packages: imbalanced-learn\n",
            "  Attempting uninstall: imbalanced-learn\n",
            "    Found existing installation: imbalanced-learn 0.9.0\n",
            "    Uninstalling imbalanced-learn-0.9.0:\n",
            "      Successfully uninstalled imbalanced-learn-0.9.0\n",
            "Successfully installed imbalanced-learn-0.10.1\n"
          ]
        }
      ]
    },
    {
      "cell_type": "code",
      "source": [
        "pip install --upgrade xgboost"
      ],
      "metadata": {
        "colab": {
          "base_uri": "https://localhost:8080/"
        },
        "id": "rpWX259RZSZ2",
        "outputId": "a3fda4a9-e626-4c61-dd53-d3705a91e388"
      },
      "execution_count": null,
      "outputs": [
        {
          "output_type": "stream",
          "name": "stdout",
          "text": [
            "Requirement already satisfied: xgboost in /usr/local/lib/python3.10/dist-packages (2.1.3)\n",
            "Requirement already satisfied: numpy in /usr/local/lib/python3.10/dist-packages (from xgboost) (1.26.4)\n",
            "Requirement already satisfied: nvidia-nccl-cu12 in /usr/local/lib/python3.10/dist-packages (from xgboost) (2.24.3)\n",
            "Requirement already satisfied: scipy in /usr/local/lib/python3.10/dist-packages (from xgboost) (1.13.1)\n"
          ]
        }
      ]
    },
    {
      "cell_type": "code",
      "source": [
        "from google.colab import files\n",
        "uploaded = files.upload()\n",
        "import io\n",
        "import pandas as pd\n",
        "Fin_DIS = pd.read_csv(io.BytesIO(uploaded['Financial Distress.csv']))"
      ],
      "metadata": {
        "colab": {
          "base_uri": "https://localhost:8080/",
          "height": 73
        },
        "id": "O9nJLd2mH_Xs",
        "outputId": "4242b45c-0f01-4aea-a352-68a992041646"
      },
      "execution_count": null,
      "outputs": [
        {
          "output_type": "display_data",
          "data": {
            "text/plain": [
              "<IPython.core.display.HTML object>"
            ],
            "text/html": [
              "\n",
              "     <input type=\"file\" id=\"files-b8c7b7a2-6a65-4786-a6ba-6df2f2779b11\" name=\"files[]\" multiple disabled\n",
              "        style=\"border:none\" />\n",
              "     <output id=\"result-b8c7b7a2-6a65-4786-a6ba-6df2f2779b11\">\n",
              "      Upload widget is only available when the cell has been executed in the\n",
              "      current browser session. Please rerun this cell to enable.\n",
              "      </output>\n",
              "      <script>// Copyright 2017 Google LLC\n",
              "//\n",
              "// Licensed under the Apache License, Version 2.0 (the \"License\");\n",
              "// you may not use this file except in compliance with the License.\n",
              "// You may obtain a copy of the License at\n",
              "//\n",
              "//      http://www.apache.org/licenses/LICENSE-2.0\n",
              "//\n",
              "// Unless required by applicable law or agreed to in writing, software\n",
              "// distributed under the License is distributed on an \"AS IS\" BASIS,\n",
              "// WITHOUT WARRANTIES OR CONDITIONS OF ANY KIND, either express or implied.\n",
              "// See the License for the specific language governing permissions and\n",
              "// limitations under the License.\n",
              "\n",
              "/**\n",
              " * @fileoverview Helpers for google.colab Python module.\n",
              " */\n",
              "(function(scope) {\n",
              "function span(text, styleAttributes = {}) {\n",
              "  const element = document.createElement('span');\n",
              "  element.textContent = text;\n",
              "  for (const key of Object.keys(styleAttributes)) {\n",
              "    element.style[key] = styleAttributes[key];\n",
              "  }\n",
              "  return element;\n",
              "}\n",
              "\n",
              "// Max number of bytes which will be uploaded at a time.\n",
              "const MAX_PAYLOAD_SIZE = 100 * 1024;\n",
              "\n",
              "function _uploadFiles(inputId, outputId) {\n",
              "  const steps = uploadFilesStep(inputId, outputId);\n",
              "  const outputElement = document.getElementById(outputId);\n",
              "  // Cache steps on the outputElement to make it available for the next call\n",
              "  // to uploadFilesContinue from Python.\n",
              "  outputElement.steps = steps;\n",
              "\n",
              "  return _uploadFilesContinue(outputId);\n",
              "}\n",
              "\n",
              "// This is roughly an async generator (not supported in the browser yet),\n",
              "// where there are multiple asynchronous steps and the Python side is going\n",
              "// to poll for completion of each step.\n",
              "// This uses a Promise to block the python side on completion of each step,\n",
              "// then passes the result of the previous step as the input to the next step.\n",
              "function _uploadFilesContinue(outputId) {\n",
              "  const outputElement = document.getElementById(outputId);\n",
              "  const steps = outputElement.steps;\n",
              "\n",
              "  const next = steps.next(outputElement.lastPromiseValue);\n",
              "  return Promise.resolve(next.value.promise).then((value) => {\n",
              "    // Cache the last promise value to make it available to the next\n",
              "    // step of the generator.\n",
              "    outputElement.lastPromiseValue = value;\n",
              "    return next.value.response;\n",
              "  });\n",
              "}\n",
              "\n",
              "/**\n",
              " * Generator function which is called between each async step of the upload\n",
              " * process.\n",
              " * @param {string} inputId Element ID of the input file picker element.\n",
              " * @param {string} outputId Element ID of the output display.\n",
              " * @return {!Iterable<!Object>} Iterable of next steps.\n",
              " */\n",
              "function* uploadFilesStep(inputId, outputId) {\n",
              "  const inputElement = document.getElementById(inputId);\n",
              "  inputElement.disabled = false;\n",
              "\n",
              "  const outputElement = document.getElementById(outputId);\n",
              "  outputElement.innerHTML = '';\n",
              "\n",
              "  const pickedPromise = new Promise((resolve) => {\n",
              "    inputElement.addEventListener('change', (e) => {\n",
              "      resolve(e.target.files);\n",
              "    });\n",
              "  });\n",
              "\n",
              "  const cancel = document.createElement('button');\n",
              "  inputElement.parentElement.appendChild(cancel);\n",
              "  cancel.textContent = 'Cancel upload';\n",
              "  const cancelPromise = new Promise((resolve) => {\n",
              "    cancel.onclick = () => {\n",
              "      resolve(null);\n",
              "    };\n",
              "  });\n",
              "\n",
              "  // Wait for the user to pick the files.\n",
              "  const files = yield {\n",
              "    promise: Promise.race([pickedPromise, cancelPromise]),\n",
              "    response: {\n",
              "      action: 'starting',\n",
              "    }\n",
              "  };\n",
              "\n",
              "  cancel.remove();\n",
              "\n",
              "  // Disable the input element since further picks are not allowed.\n",
              "  inputElement.disabled = true;\n",
              "\n",
              "  if (!files) {\n",
              "    return {\n",
              "      response: {\n",
              "        action: 'complete',\n",
              "      }\n",
              "    };\n",
              "  }\n",
              "\n",
              "  for (const file of files) {\n",
              "    const li = document.createElement('li');\n",
              "    li.append(span(file.name, {fontWeight: 'bold'}));\n",
              "    li.append(span(\n",
              "        `(${file.type || 'n/a'}) - ${file.size} bytes, ` +\n",
              "        `last modified: ${\n",
              "            file.lastModifiedDate ? file.lastModifiedDate.toLocaleDateString() :\n",
              "                                    'n/a'} - `));\n",
              "    const percent = span('0% done');\n",
              "    li.appendChild(percent);\n",
              "\n",
              "    outputElement.appendChild(li);\n",
              "\n",
              "    const fileDataPromise = new Promise((resolve) => {\n",
              "      const reader = new FileReader();\n",
              "      reader.onload = (e) => {\n",
              "        resolve(e.target.result);\n",
              "      };\n",
              "      reader.readAsArrayBuffer(file);\n",
              "    });\n",
              "    // Wait for the data to be ready.\n",
              "    let fileData = yield {\n",
              "      promise: fileDataPromise,\n",
              "      response: {\n",
              "        action: 'continue',\n",
              "      }\n",
              "    };\n",
              "\n",
              "    // Use a chunked sending to avoid message size limits. See b/62115660.\n",
              "    let position = 0;\n",
              "    do {\n",
              "      const length = Math.min(fileData.byteLength - position, MAX_PAYLOAD_SIZE);\n",
              "      const chunk = new Uint8Array(fileData, position, length);\n",
              "      position += length;\n",
              "\n",
              "      const base64 = btoa(String.fromCharCode.apply(null, chunk));\n",
              "      yield {\n",
              "        response: {\n",
              "          action: 'append',\n",
              "          file: file.name,\n",
              "          data: base64,\n",
              "        },\n",
              "      };\n",
              "\n",
              "      let percentDone = fileData.byteLength === 0 ?\n",
              "          100 :\n",
              "          Math.round((position / fileData.byteLength) * 100);\n",
              "      percent.textContent = `${percentDone}% done`;\n",
              "\n",
              "    } while (position < fileData.byteLength);\n",
              "  }\n",
              "\n",
              "  // All done.\n",
              "  yield {\n",
              "    response: {\n",
              "      action: 'complete',\n",
              "    }\n",
              "  };\n",
              "}\n",
              "\n",
              "scope.google = scope.google || {};\n",
              "scope.google.colab = scope.google.colab || {};\n",
              "scope.google.colab._files = {\n",
              "  _uploadFiles,\n",
              "  _uploadFilesContinue,\n",
              "};\n",
              "})(self);\n",
              "</script> "
            ]
          },
          "metadata": {}
        },
        {
          "output_type": "stream",
          "name": "stdout",
          "text": [
            "Saving Financial Distress.csv to Financial Distress.csv\n"
          ]
        }
      ]
    },
    {
      "cell_type": "code",
      "source": [
        "Fin_DIS.head()\n",
        "Fin_DIS.tail()"
      ],
      "metadata": {
        "colab": {
          "base_uri": "https://localhost:8080/",
          "height": 273
        },
        "id": "QPV8LJfVIMMA",
        "outputId": "993133f6-8930-46a3-f3d0-9d71fe58299c"
      },
      "execution_count": null,
      "outputs": [
        {
          "output_type": "execute_result",
          "data": {
            "text/plain": [
              "      Company  Time  Financial Distress      x1       x2       x3       x4  \\\n",
              "3667      422    10                 0.0  2.2605  0.20289  0.16037  0.18588   \n",
              "3668      422    11                 0.0  1.9615  0.21644  0.20095  0.21642   \n",
              "3669      422    12                 0.0  1.7099  0.20797  0.26136  0.21399   \n",
              "3670      422    13                 0.0  1.5590  0.18545  0.30728  0.19307   \n",
              "3671      422    14                 0.0  1.6148  0.17676  0.36369  0.18442   \n",
              "\n",
              "           x5       x6      x7  ...   x73    x74    x75    x76     x77   x78  \\\n",
              "3667  0.17597  0.19840  2.2236  ...  22.0  100.0  100.0  100.0  17.125  14.5   \n",
              "3668  0.20359  0.18987  1.9382  ...  28.0   91.5  130.5  132.4  20.000  14.5   \n",
              "3669  0.19367  0.18389  1.6898  ...  32.0   87.1  175.9  178.1  20.000  14.5   \n",
              "3670  0.17214  0.17068  1.5389  ...  30.0   92.9  203.2  204.5  22.000  22.0   \n",
              "3671  0.16955  0.19786  1.5842  ...  29.0   91.7  227.5  214.5  21.000  20.5   \n",
              "\n",
              "       x79      x81  x82  x83  \n",
              "3667  -7.0  0.43638    4   41  \n",
              "3668 -16.0  0.43802    5   42  \n",
              "3669 -20.2  0.48241    6   43  \n",
              "3670   6.4  0.50077    7   44  \n",
              "3671   8.6  0.61103    8   45  \n",
              "\n",
              "[5 rows x 85 columns]"
            ],
            "text/html": [
              "\n",
              "  <div id=\"df-3b4ff625-01ac-4c53-bf73-ab4b841c698d\" class=\"colab-df-container\">\n",
              "    <div>\n",
              "<style scoped>\n",
              "    .dataframe tbody tr th:only-of-type {\n",
              "        vertical-align: middle;\n",
              "    }\n",
              "\n",
              "    .dataframe tbody tr th {\n",
              "        vertical-align: top;\n",
              "    }\n",
              "\n",
              "    .dataframe thead th {\n",
              "        text-align: right;\n",
              "    }\n",
              "</style>\n",
              "<table border=\"1\" class=\"dataframe\">\n",
              "  <thead>\n",
              "    <tr style=\"text-align: right;\">\n",
              "      <th></th>\n",
              "      <th>Company</th>\n",
              "      <th>Time</th>\n",
              "      <th>Financial Distress</th>\n",
              "      <th>x1</th>\n",
              "      <th>x2</th>\n",
              "      <th>x3</th>\n",
              "      <th>x4</th>\n",
              "      <th>x5</th>\n",
              "      <th>x6</th>\n",
              "      <th>x7</th>\n",
              "      <th>...</th>\n",
              "      <th>x73</th>\n",
              "      <th>x74</th>\n",
              "      <th>x75</th>\n",
              "      <th>x76</th>\n",
              "      <th>x77</th>\n",
              "      <th>x78</th>\n",
              "      <th>x79</th>\n",
              "      <th>x81</th>\n",
              "      <th>x82</th>\n",
              "      <th>x83</th>\n",
              "    </tr>\n",
              "  </thead>\n",
              "  <tbody>\n",
              "    <tr>\n",
              "      <th>3667</th>\n",
              "      <td>422</td>\n",
              "      <td>10</td>\n",
              "      <td>0.0</td>\n",
              "      <td>2.2605</td>\n",
              "      <td>0.20289</td>\n",
              "      <td>0.16037</td>\n",
              "      <td>0.18588</td>\n",
              "      <td>0.17597</td>\n",
              "      <td>0.19840</td>\n",
              "      <td>2.2236</td>\n",
              "      <td>...</td>\n",
              "      <td>22.0</td>\n",
              "      <td>100.0</td>\n",
              "      <td>100.0</td>\n",
              "      <td>100.0</td>\n",
              "      <td>17.125</td>\n",
              "      <td>14.5</td>\n",
              "      <td>-7.0</td>\n",
              "      <td>0.43638</td>\n",
              "      <td>4</td>\n",
              "      <td>41</td>\n",
              "    </tr>\n",
              "    <tr>\n",
              "      <th>3668</th>\n",
              "      <td>422</td>\n",
              "      <td>11</td>\n",
              "      <td>0.0</td>\n",
              "      <td>1.9615</td>\n",
              "      <td>0.21644</td>\n",
              "      <td>0.20095</td>\n",
              "      <td>0.21642</td>\n",
              "      <td>0.20359</td>\n",
              "      <td>0.18987</td>\n",
              "      <td>1.9382</td>\n",
              "      <td>...</td>\n",
              "      <td>28.0</td>\n",
              "      <td>91.5</td>\n",
              "      <td>130.5</td>\n",
              "      <td>132.4</td>\n",
              "      <td>20.000</td>\n",
              "      <td>14.5</td>\n",
              "      <td>-16.0</td>\n",
              "      <td>0.43802</td>\n",
              "      <td>5</td>\n",
              "      <td>42</td>\n",
              "    </tr>\n",
              "    <tr>\n",
              "      <th>3669</th>\n",
              "      <td>422</td>\n",
              "      <td>12</td>\n",
              "      <td>0.0</td>\n",
              "      <td>1.7099</td>\n",
              "      <td>0.20797</td>\n",
              "      <td>0.26136</td>\n",
              "      <td>0.21399</td>\n",
              "      <td>0.19367</td>\n",
              "      <td>0.18389</td>\n",
              "      <td>1.6898</td>\n",
              "      <td>...</td>\n",
              "      <td>32.0</td>\n",
              "      <td>87.1</td>\n",
              "      <td>175.9</td>\n",
              "      <td>178.1</td>\n",
              "      <td>20.000</td>\n",
              "      <td>14.5</td>\n",
              "      <td>-20.2</td>\n",
              "      <td>0.48241</td>\n",
              "      <td>6</td>\n",
              "      <td>43</td>\n",
              "    </tr>\n",
              "    <tr>\n",
              "      <th>3670</th>\n",
              "      <td>422</td>\n",
              "      <td>13</td>\n",
              "      <td>0.0</td>\n",
              "      <td>1.5590</td>\n",
              "      <td>0.18545</td>\n",
              "      <td>0.30728</td>\n",
              "      <td>0.19307</td>\n",
              "      <td>0.17214</td>\n",
              "      <td>0.17068</td>\n",
              "      <td>1.5389</td>\n",
              "      <td>...</td>\n",
              "      <td>30.0</td>\n",
              "      <td>92.9</td>\n",
              "      <td>203.2</td>\n",
              "      <td>204.5</td>\n",
              "      <td>22.000</td>\n",
              "      <td>22.0</td>\n",
              "      <td>6.4</td>\n",
              "      <td>0.50077</td>\n",
              "      <td>7</td>\n",
              "      <td>44</td>\n",
              "    </tr>\n",
              "    <tr>\n",
              "      <th>3671</th>\n",
              "      <td>422</td>\n",
              "      <td>14</td>\n",
              "      <td>0.0</td>\n",
              "      <td>1.6148</td>\n",
              "      <td>0.17676</td>\n",
              "      <td>0.36369</td>\n",
              "      <td>0.18442</td>\n",
              "      <td>0.16955</td>\n",
              "      <td>0.19786</td>\n",
              "      <td>1.5842</td>\n",
              "      <td>...</td>\n",
              "      <td>29.0</td>\n",
              "      <td>91.7</td>\n",
              "      <td>227.5</td>\n",
              "      <td>214.5</td>\n",
              "      <td>21.000</td>\n",
              "      <td>20.5</td>\n",
              "      <td>8.6</td>\n",
              "      <td>0.61103</td>\n",
              "      <td>8</td>\n",
              "      <td>45</td>\n",
              "    </tr>\n",
              "  </tbody>\n",
              "</table>\n",
              "<p>5 rows × 85 columns</p>\n",
              "</div>\n",
              "    <div class=\"colab-df-buttons\">\n",
              "\n",
              "  <div class=\"colab-df-container\">\n",
              "    <button class=\"colab-df-convert\" onclick=\"convertToInteractive('df-3b4ff625-01ac-4c53-bf73-ab4b841c698d')\"\n",
              "            title=\"Convert this dataframe to an interactive table.\"\n",
              "            style=\"display:none;\">\n",
              "\n",
              "  <svg xmlns=\"http://www.w3.org/2000/svg\" height=\"24px\" viewBox=\"0 -960 960 960\">\n",
              "    <path d=\"M120-120v-720h720v720H120Zm60-500h600v-160H180v160Zm220 220h160v-160H400v160Zm0 220h160v-160H400v160ZM180-400h160v-160H180v160Zm440 0h160v-160H620v160ZM180-180h160v-160H180v160Zm440 0h160v-160H620v160Z\"/>\n",
              "  </svg>\n",
              "    </button>\n",
              "\n",
              "  <style>\n",
              "    .colab-df-container {\n",
              "      display:flex;\n",
              "      gap: 12px;\n",
              "    }\n",
              "\n",
              "    .colab-df-convert {\n",
              "      background-color: #E8F0FE;\n",
              "      border: none;\n",
              "      border-radius: 50%;\n",
              "      cursor: pointer;\n",
              "      display: none;\n",
              "      fill: #1967D2;\n",
              "      height: 32px;\n",
              "      padding: 0 0 0 0;\n",
              "      width: 32px;\n",
              "    }\n",
              "\n",
              "    .colab-df-convert:hover {\n",
              "      background-color: #E2EBFA;\n",
              "      box-shadow: 0px 1px 2px rgba(60, 64, 67, 0.3), 0px 1px 3px 1px rgba(60, 64, 67, 0.15);\n",
              "      fill: #174EA6;\n",
              "    }\n",
              "\n",
              "    .colab-df-buttons div {\n",
              "      margin-bottom: 4px;\n",
              "    }\n",
              "\n",
              "    [theme=dark] .colab-df-convert {\n",
              "      background-color: #3B4455;\n",
              "      fill: #D2E3FC;\n",
              "    }\n",
              "\n",
              "    [theme=dark] .colab-df-convert:hover {\n",
              "      background-color: #434B5C;\n",
              "      box-shadow: 0px 1px 3px 1px rgba(0, 0, 0, 0.15);\n",
              "      filter: drop-shadow(0px 1px 2px rgba(0, 0, 0, 0.3));\n",
              "      fill: #FFFFFF;\n",
              "    }\n",
              "  </style>\n",
              "\n",
              "    <script>\n",
              "      const buttonEl =\n",
              "        document.querySelector('#df-3b4ff625-01ac-4c53-bf73-ab4b841c698d button.colab-df-convert');\n",
              "      buttonEl.style.display =\n",
              "        google.colab.kernel.accessAllowed ? 'block' : 'none';\n",
              "\n",
              "      async function convertToInteractive(key) {\n",
              "        const element = document.querySelector('#df-3b4ff625-01ac-4c53-bf73-ab4b841c698d');\n",
              "        const dataTable =\n",
              "          await google.colab.kernel.invokeFunction('convertToInteractive',\n",
              "                                                    [key], {});\n",
              "        if (!dataTable) return;\n",
              "\n",
              "        const docLinkHtml = 'Like what you see? Visit the ' +\n",
              "          '<a target=\"_blank\" href=https://colab.research.google.com/notebooks/data_table.ipynb>data table notebook</a>'\n",
              "          + ' to learn more about interactive tables.';\n",
              "        element.innerHTML = '';\n",
              "        dataTable['output_type'] = 'display_data';\n",
              "        await google.colab.output.renderOutput(dataTable, element);\n",
              "        const docLink = document.createElement('div');\n",
              "        docLink.innerHTML = docLinkHtml;\n",
              "        element.appendChild(docLink);\n",
              "      }\n",
              "    </script>\n",
              "  </div>\n",
              "\n",
              "\n",
              "<div id=\"df-cd4cecc1-5a97-40ca-9eeb-2b50c55fdc37\">\n",
              "  <button class=\"colab-df-quickchart\" onclick=\"quickchart('df-cd4cecc1-5a97-40ca-9eeb-2b50c55fdc37')\"\n",
              "            title=\"Suggest charts\"\n",
              "            style=\"display:none;\">\n",
              "\n",
              "<svg xmlns=\"http://www.w3.org/2000/svg\" height=\"24px\"viewBox=\"0 0 24 24\"\n",
              "     width=\"24px\">\n",
              "    <g>\n",
              "        <path d=\"M19 3H5c-1.1 0-2 .9-2 2v14c0 1.1.9 2 2 2h14c1.1 0 2-.9 2-2V5c0-1.1-.9-2-2-2zM9 17H7v-7h2v7zm4 0h-2V7h2v10zm4 0h-2v-4h2v4z\"/>\n",
              "    </g>\n",
              "</svg>\n",
              "  </button>\n",
              "\n",
              "<style>\n",
              "  .colab-df-quickchart {\n",
              "      --bg-color: #E8F0FE;\n",
              "      --fill-color: #1967D2;\n",
              "      --hover-bg-color: #E2EBFA;\n",
              "      --hover-fill-color: #174EA6;\n",
              "      --disabled-fill-color: #AAA;\n",
              "      --disabled-bg-color: #DDD;\n",
              "  }\n",
              "\n",
              "  [theme=dark] .colab-df-quickchart {\n",
              "      --bg-color: #3B4455;\n",
              "      --fill-color: #D2E3FC;\n",
              "      --hover-bg-color: #434B5C;\n",
              "      --hover-fill-color: #FFFFFF;\n",
              "      --disabled-bg-color: #3B4455;\n",
              "      --disabled-fill-color: #666;\n",
              "  }\n",
              "\n",
              "  .colab-df-quickchart {\n",
              "    background-color: var(--bg-color);\n",
              "    border: none;\n",
              "    border-radius: 50%;\n",
              "    cursor: pointer;\n",
              "    display: none;\n",
              "    fill: var(--fill-color);\n",
              "    height: 32px;\n",
              "    padding: 0;\n",
              "    width: 32px;\n",
              "  }\n",
              "\n",
              "  .colab-df-quickchart:hover {\n",
              "    background-color: var(--hover-bg-color);\n",
              "    box-shadow: 0 1px 2px rgba(60, 64, 67, 0.3), 0 1px 3px 1px rgba(60, 64, 67, 0.15);\n",
              "    fill: var(--button-hover-fill-color);\n",
              "  }\n",
              "\n",
              "  .colab-df-quickchart-complete:disabled,\n",
              "  .colab-df-quickchart-complete:disabled:hover {\n",
              "    background-color: var(--disabled-bg-color);\n",
              "    fill: var(--disabled-fill-color);\n",
              "    box-shadow: none;\n",
              "  }\n",
              "\n",
              "  .colab-df-spinner {\n",
              "    border: 2px solid var(--fill-color);\n",
              "    border-color: transparent;\n",
              "    border-bottom-color: var(--fill-color);\n",
              "    animation:\n",
              "      spin 1s steps(1) infinite;\n",
              "  }\n",
              "\n",
              "  @keyframes spin {\n",
              "    0% {\n",
              "      border-color: transparent;\n",
              "      border-bottom-color: var(--fill-color);\n",
              "      border-left-color: var(--fill-color);\n",
              "    }\n",
              "    20% {\n",
              "      border-color: transparent;\n",
              "      border-left-color: var(--fill-color);\n",
              "      border-top-color: var(--fill-color);\n",
              "    }\n",
              "    30% {\n",
              "      border-color: transparent;\n",
              "      border-left-color: var(--fill-color);\n",
              "      border-top-color: var(--fill-color);\n",
              "      border-right-color: var(--fill-color);\n",
              "    }\n",
              "    40% {\n",
              "      border-color: transparent;\n",
              "      border-right-color: var(--fill-color);\n",
              "      border-top-color: var(--fill-color);\n",
              "    }\n",
              "    60% {\n",
              "      border-color: transparent;\n",
              "      border-right-color: var(--fill-color);\n",
              "    }\n",
              "    80% {\n",
              "      border-color: transparent;\n",
              "      border-right-color: var(--fill-color);\n",
              "      border-bottom-color: var(--fill-color);\n",
              "    }\n",
              "    90% {\n",
              "      border-color: transparent;\n",
              "      border-bottom-color: var(--fill-color);\n",
              "    }\n",
              "  }\n",
              "</style>\n",
              "\n",
              "  <script>\n",
              "    async function quickchart(key) {\n",
              "      const quickchartButtonEl =\n",
              "        document.querySelector('#' + key + ' button');\n",
              "      quickchartButtonEl.disabled = true;  // To prevent multiple clicks.\n",
              "      quickchartButtonEl.classList.add('colab-df-spinner');\n",
              "      try {\n",
              "        const charts = await google.colab.kernel.invokeFunction(\n",
              "            'suggestCharts', [key], {});\n",
              "      } catch (error) {\n",
              "        console.error('Error during call to suggestCharts:', error);\n",
              "      }\n",
              "      quickchartButtonEl.classList.remove('colab-df-spinner');\n",
              "      quickchartButtonEl.classList.add('colab-df-quickchart-complete');\n",
              "    }\n",
              "    (() => {\n",
              "      let quickchartButtonEl =\n",
              "        document.querySelector('#df-cd4cecc1-5a97-40ca-9eeb-2b50c55fdc37 button');\n",
              "      quickchartButtonEl.style.display =\n",
              "        google.colab.kernel.accessAllowed ? 'block' : 'none';\n",
              "    })();\n",
              "  </script>\n",
              "</div>\n",
              "\n",
              "    </div>\n",
              "  </div>\n"
            ],
            "application/vnd.google.colaboratory.intrinsic+json": {
              "type": "dataframe"
            }
          },
          "metadata": {},
          "execution_count": 52
        }
      ]
    },
    {
      "cell_type": "code",
      "execution_count": null,
      "metadata": {
        "ExecuteTime": {
          "end_time": "2025-01-02T20:37:56.170818Z",
          "start_time": "2025-01-02T20:37:56.126023Z"
        },
        "_cell_guid": "416b6c52-fba0-4194-9c38-a1205aa2ebdf",
        "_kg_hide-output": true,
        "_uuid": "71239f65e413a6a97bb3e995de1ab31818c57679",
        "id": "UVzxwqTFHARd"
      },
      "outputs": [],
      "source": [
        "Fin_DIS = Fin_DIS[Fin_DIS.columns.drop(list(Fin_DIS.filter(regex='x80')))]\n"
      ]
    },
    {
      "cell_type": "code",
      "source": [
        "from sklearn.impute import SimpleImputer\n",
        "\n",
        "# Check for NaN values in Fea_resampled and Tar_resampled\n",
        "print(\"NaN values in Fea_resampled:\", np.isnan(Fea_resampled).any())\n",
        "print(\"NaN values in Tar_resampled:\", np.isnan(Tar_resampled).any())\n",
        "\n",
        "# Impute NaN values using SimpleImputer\n",
        "imputer = SimpleImputer(strategy='mean')  # Replace with your preferred strategy\n",
        "Fea_resampled = imputer.fit_transform(Fea_resampled)\n",
        "\n",
        "# Verify that NaN values have been imputed\n",
        "print(\"NaN values in Fea_resampled after imputation:\", np.isnan(Fea_resampled).any())\n",
        "\n",
        "# Now you can fit the classifier\n",
        "cls_RF.fit(Fea_resampled, Tar_resampled)"
      ],
      "metadata": {
        "colab": {
          "base_uri": "https://localhost:8080/",
          "height": 181
        },
        "id": "1Jp75toWvIyS",
        "outputId": "a8b9b4d7-00c1-4181-d601-3e3813245f8f"
      },
      "execution_count": null,
      "outputs": [
        {
          "output_type": "stream",
          "name": "stdout",
          "text": [
            "NaN values in Fea_resampled: True\n",
            "NaN values in Tar_resampled: False\n",
            "NaN values in Fea_resampled after imputation: False\n"
          ]
        },
        {
          "output_type": "stream",
          "name": "stderr",
          "text": [
            "<ipython-input-80-636f98419ac1>:15: DataConversionWarning: A column-vector y was passed when a 1d array was expected. Please change the shape of y to (n_samples,), for example using ravel().\n",
            "  classifier_3.fit(Fea_resampled, Tar_resampled)\n"
          ]
        },
        {
          "output_type": "execute_result",
          "data": {
            "text/plain": [
              "RandomForestClassifier(criterion='entropy', n_estimators=5)"
            ],
            "text/html": [
              "<style>#sk-container-id-5 {color: black;background-color: white;}#sk-container-id-5 pre{padding: 0;}#sk-container-id-5 div.sk-toggleable {background-color: white;}#sk-container-id-5 label.sk-toggleable__label {cursor: pointer;display: block;width: 100%;margin-bottom: 0;padding: 0.3em;box-sizing: border-box;text-align: center;}#sk-container-id-5 label.sk-toggleable__label-arrow:before {content: \"▸\";float: left;margin-right: 0.25em;color: #696969;}#sk-container-id-5 label.sk-toggleable__label-arrow:hover:before {color: black;}#sk-container-id-5 div.sk-estimator:hover label.sk-toggleable__label-arrow:before {color: black;}#sk-container-id-5 div.sk-toggleable__content {max-height: 0;max-width: 0;overflow: hidden;text-align: left;background-color: #f0f8ff;}#sk-container-id-5 div.sk-toggleable__content pre {margin: 0.2em;color: black;border-radius: 0.25em;background-color: #f0f8ff;}#sk-container-id-5 input.sk-toggleable__control:checked~div.sk-toggleable__content {max-height: 200px;max-width: 100%;overflow: auto;}#sk-container-id-5 input.sk-toggleable__control:checked~label.sk-toggleable__label-arrow:before {content: \"▾\";}#sk-container-id-5 div.sk-estimator input.sk-toggleable__control:checked~label.sk-toggleable__label {background-color: #d4ebff;}#sk-container-id-5 div.sk-label input.sk-toggleable__control:checked~label.sk-toggleable__label {background-color: #d4ebff;}#sk-container-id-5 input.sk-hidden--visually {border: 0;clip: rect(1px 1px 1px 1px);clip: rect(1px, 1px, 1px, 1px);height: 1px;margin: -1px;overflow: hidden;padding: 0;position: absolute;width: 1px;}#sk-container-id-5 div.sk-estimator {font-family: monospace;background-color: #f0f8ff;border: 1px dotted black;border-radius: 0.25em;box-sizing: border-box;margin-bottom: 0.5em;}#sk-container-id-5 div.sk-estimator:hover {background-color: #d4ebff;}#sk-container-id-5 div.sk-parallel-item::after {content: \"\";width: 100%;border-bottom: 1px solid gray;flex-grow: 1;}#sk-container-id-5 div.sk-label:hover label.sk-toggleable__label {background-color: #d4ebff;}#sk-container-id-5 div.sk-serial::before {content: \"\";position: absolute;border-left: 1px solid gray;box-sizing: border-box;top: 0;bottom: 0;left: 50%;z-index: 0;}#sk-container-id-5 div.sk-serial {display: flex;flex-direction: column;align-items: center;background-color: white;padding-right: 0.2em;padding-left: 0.2em;position: relative;}#sk-container-id-5 div.sk-item {position: relative;z-index: 1;}#sk-container-id-5 div.sk-parallel {display: flex;align-items: stretch;justify-content: center;background-color: white;position: relative;}#sk-container-id-5 div.sk-item::before, #sk-container-id-5 div.sk-parallel-item::before {content: \"\";position: absolute;border-left: 1px solid gray;box-sizing: border-box;top: 0;bottom: 0;left: 50%;z-index: -1;}#sk-container-id-5 div.sk-parallel-item {display: flex;flex-direction: column;z-index: 1;position: relative;background-color: white;}#sk-container-id-5 div.sk-parallel-item:first-child::after {align-self: flex-end;width: 50%;}#sk-container-id-5 div.sk-parallel-item:last-child::after {align-self: flex-start;width: 50%;}#sk-container-id-5 div.sk-parallel-item:only-child::after {width: 0;}#sk-container-id-5 div.sk-dashed-wrapped {border: 1px dashed gray;margin: 0 0.4em 0.5em 0.4em;box-sizing: border-box;padding-bottom: 0.4em;background-color: white;}#sk-container-id-5 div.sk-label label {font-family: monospace;font-weight: bold;display: inline-block;line-height: 1.2em;}#sk-container-id-5 div.sk-label-container {text-align: center;}#sk-container-id-5 div.sk-container {/* jupyter's `normalize.less` sets `[hidden] { display: none; }` but bootstrap.min.css set `[hidden] { display: none !important; }` so we also need the `!important` here to be able to override the default hidden behavior on the sphinx rendered scikit-learn.org. See: https://github.com/scikit-learn/scikit-learn/issues/21755 */display: inline-block !important;position: relative;}#sk-container-id-5 div.sk-text-repr-fallback {display: none;}</style><div id=\"sk-container-id-5\" class=\"sk-top-container\"><div class=\"sk-text-repr-fallback\"><pre>RandomForestClassifier(criterion=&#x27;entropy&#x27;, n_estimators=5)</pre><b>In a Jupyter environment, please rerun this cell to show the HTML representation or trust the notebook. <br />On GitHub, the HTML representation is unable to render, please try loading this page with nbviewer.org.</b></div><div class=\"sk-container\" hidden><div class=\"sk-item\"><div class=\"sk-estimator sk-toggleable\"><input class=\"sk-toggleable__control sk-hidden--visually\" id=\"sk-estimator-id-5\" type=\"checkbox\" checked><label for=\"sk-estimator-id-5\" class=\"sk-toggleable__label sk-toggleable__label-arrow\">RandomForestClassifier</label><div class=\"sk-toggleable__content\"><pre>RandomForestClassifier(criterion=&#x27;entropy&#x27;, n_estimators=5)</pre></div></div></div></div></div>"
            ]
          },
          "metadata": {},
          "execution_count": 80
        }
      ]
    },
    {
      "cell_type": "code",
      "execution_count": null,
      "metadata": {
        "ExecuteTime": {
          "end_time": "2025-01-02T20:37:56.191233Z",
          "start_time": "2025-01-02T20:37:56.174041Z"
        },
        "_cell_guid": "c9446c3d-90b8-49a8-b43b-6171b1143028",
        "_uuid": "2247df4be434dc9966a667fd07f3e6ff97f21bb8",
        "id": "doYofossHARf"
      },
      "outputs": [],
      "source": [
        "# Creating target vector and feature matrix\n",
        "Y = Fin_DIS.iloc[:,2].values\n",
        "for y in range(0,len(Y)): # Coverting target variable from continuous to binary form\n",
        "       if Y[y] > -0.5:\n",
        "              Y[y] = 0\n",
        "       else:\n",
        "              Y[y] = 1\n",
        "X = Fin_DIS.iloc[:,3:].values"
      ]
    },
    {
      "cell_type": "code",
      "execution_count": null,
      "metadata": {
        "ExecuteTime": {
          "end_time": "2025-01-02T20:37:56.210873Z",
          "start_time": "2025-01-02T20:37:56.195063Z"
        },
        "_cell_guid": "3fccd230-a86c-4c03-b42c-ad3e934cc3af",
        "_uuid": "084110bcffe1813bfff26546699fc3cc9bd5c07c",
        "colab": {
          "base_uri": "https://localhost:8080/"
        },
        "id": "h_mbGHOjHARg",
        "outputId": "64f12e4a-169b-4617-8102-b9a838ca64b4"
      },
      "outputs": [
        {
          "output_type": "stream",
          "name": "stdout",
          "text": [
            "Total BANKRUPT companies(1's): 0\n",
            "Total Financially HEALTHY companies(0's): 3672\n",
            "Total Number of Companies : (422,)\n"
          ]
        }
      ],
      "source": [
        "# Check Data\n",
        "n_zeros = 0\n",
        "for n in Y:\n",
        "       if n == 0:\n",
        "              n_zeros = n_zeros+1\n",
        "n_ones = len(Y) - n_zeros\n",
        "\n",
        "print(\"Total BANKRUPT companies(1's):\",n_ones)\n",
        "print(\"Total Financially HEALTHY companies(0's):\",n_zeros)\n",
        "print(\"Total Number of Companies :\",Fin_DIS.Company.unique().shape)\n"
      ]
    },
    {
      "cell_type": "code",
      "execution_count": null,
      "metadata": {
        "ExecuteTime": {
          "end_time": "2025-01-02T20:38:00.006437Z",
          "start_time": "2025-01-02T20:37:56.223616Z"
        },
        "_uuid": "8759054d101604c220bb511d53abfe8827eb1240",
        "id": "gHFGWwOaHARi"
      },
      "outputs": [],
      "source": [
        "from sklearn.model_selection import train_test_split\n",
        "fea_train,Fea_test,target_train,Tar_test = train_test_split(X,Y, test_size = 0.20, random_state = 0)\n",
        "fea_train_no_sampling = fea_train\n",
        "target_train_no_sampling = target_train\n"
      ]
    },
    {
      "cell_type": "code",
      "execution_count": null,
      "metadata": {
        "ExecuteTime": {
          "end_time": "2025-01-02T20:38:00.052964Z",
          "start_time": "2025-01-02T20:38:00.008583Z"
        },
        "_cell_guid": "cb2323e2-e5de-49c0-9987-1ba8b6aa0c7c",
        "_uuid": "532e5f805ce20ec00cc2591f77d4c0818c4e8ea1",
        "id": "y-C3_mA8HARj"
      },
      "outputs": [],
      "source": [
        "Target_train = (np.matrix(target_train)).T\n",
        "target_train = pd.DataFrame(target_train)\n",
        "# The target_train DataFrame has 2570 columns and 1 row.\n",
        "# Transposing it to have 1 column and 2570 rows.\n",
        "target_train.columns = ['Financial_Distress'] * target_train.shape[1]\n",
        "fea_train = pd.DataFrame(fea_train)\n",
        "frame = [fea_train,target_train]\n",
        "train_data = pd.concat(frame,axis = 1)\n",
        "B_com = train_data[train_data.Financial_Distress == 1]\n",
        "\n",
        "feat_mat = B_com.iloc[:,:-1].values\n",
        "response = B_com.iloc[:,-1].values\n",
        "#The error was here: The size of fea_mean and fea_std should match the number of features (columns) in feat_mat\n",
        "#Dim_1[1] represents the number of columns (features) in feat_mat\n",
        "# Moved the definition of Dim_1 before it's used\n",
        "Dim_1 = np.shape(feat_mat)\n",
        "fea_mean = np.zeros(shape=(Dim_1[1],1))\n",
        "fea_std = np.zeros(shape=(Dim_1[1],1))\n",
        "\n"
      ]
    },
    {
      "cell_type": "code",
      "source": [
        "for i in range(0,Dim_1[1]):\n",
        "       fea_mean[i,0] = np.mean(feat_mat[:,i])\n",
        "       fea_std[i,0] = np.std(feat_mat[:,i])\n",
        "fea_mean_and_std = np.hstack((fea_mean,fea_std))\n",
        "added_data = np.zeros(shape=(1200,Dim_1[1]))\n",
        "for i in range (0,Dim_1[1]):\n",
        "       mean_ = fea_mean_and_std[i,0]\n",
        "       std_ = fea_mean_and_std[i,1]\n",
        "       added_data[:,i] = np.random.normal(mean_,std_,1200)\n",
        "added_y = np.ones(shape=(1200,1))\n",
        "Fea_resampled = np.vstack((fea_train,added_data))\n",
        "target_train = np.array(target_train)\n",
        "Tar_resampled = np.vstack((target_train,added_y))"
      ],
      "metadata": {
        "colab": {
          "base_uri": "https://localhost:8080/"
        },
        "id": "ABAuJze5sIJ7",
        "outputId": "67787a84-0a02-46d3-92ff-5ed32f957074"
      },
      "execution_count": null,
      "outputs": [
        {
          "output_type": "stream",
          "name": "stderr",
          "text": [
            "/usr/local/lib/python3.10/dist-packages/numpy/core/fromnumeric.py:3504: RuntimeWarning: Mean of empty slice.\n",
            "  return _methods._mean(a, axis=axis, dtype=dtype,\n",
            "/usr/local/lib/python3.10/dist-packages/numpy/core/_methods.py:129: RuntimeWarning: invalid value encountered in scalar divide\n",
            "  ret = ret.dtype.type(ret / rcount)\n",
            "/usr/local/lib/python3.10/dist-packages/numpy/core/_methods.py:206: RuntimeWarning: Degrees of freedom <= 0 for slice\n",
            "  ret = _var(a, axis=axis, dtype=dtype, out=out, ddof=ddof,\n",
            "/usr/local/lib/python3.10/dist-packages/numpy/core/_methods.py:163: RuntimeWarning: invalid value encountered in divide\n",
            "  arrmean = um.true_divide(arrmean, div, out=arrmean,\n",
            "/usr/local/lib/python3.10/dist-packages/numpy/core/_methods.py:198: RuntimeWarning: invalid value encountered in scalar divide\n",
            "  ret = ret.dtype.type(ret / rcount)\n"
          ]
        }
      ]
    },
    {
      "cell_type": "code",
      "execution_count": null,
      "metadata": {
        "ExecuteTime": {
          "end_time": "2025-01-02T20:38:00.084637Z",
          "start_time": "2025-01-02T20:38:00.062487Z"
        },
        "_cell_guid": "a3210eef-ab77-49ab-b443-497685f6d58b",
        "_uuid": "21a81eb86736db06ac2f5b9991857f78bb0c976c",
        "id": "eCrMZJa-HARk"
      },
      "outputs": [],
      "source": [
        "# Feature scaling\n",
        "from sklearn.preprocessing import StandardScaler\n",
        "sc = StandardScaler()\n",
        "Fea_resampled = sc.fit_transform(Fea_resampled)\n",
        "Fea_test = sc.transform(Fea_test)"
      ]
    },
    {
      "cell_type": "code",
      "execution_count": null,
      "metadata": {
        "ExecuteTime": {
          "end_time": "2025-01-02T20:38:01.006738Z",
          "start_time": "2025-01-02T20:38:00.090404Z"
        },
        "_cell_guid": "5e516e3f-b30a-4a5e-8e61-021c3f8e9a0a",
        "_uuid": "9f9b43253b85f1882a186246fcc3754d0c141b43",
        "colab": {
          "base_uri": "https://localhost:8080/",
          "height": 164
        },
        "id": "WIyZIv62HARk",
        "outputId": "ecdbe66c-595b-45a7-92bb-dcb1460f1da3"
      },
      "outputs": [
        {
          "output_type": "stream",
          "name": "stderr",
          "text": [
            "<ipython-input-81-7d1768700aa0>:9: DataConversionWarning: A column-vector y was passed when a 1d array was expected. Please change the shape of y to (n_samples,), for example using ravel().\n",
            "  classifier_3.fit(Fea_resampled, Tar_resampled)\n",
            "/usr/local/lib/python3.10/dist-packages/sklearn/utils/validation.py:1141: DataConversionWarning: A column-vector y was passed when a 1d array was expected. Please change the shape of y to (n_samples, ), for example using ravel().\n",
            "  y = column_or_1d(y, warn=True)\n"
          ]
        },
        {
          "output_type": "execute_result",
          "data": {
            "text/plain": [
              "GaussianNB()"
            ],
            "text/html": [
              "<style>#sk-container-id-6 {color: black;background-color: white;}#sk-container-id-6 pre{padding: 0;}#sk-container-id-6 div.sk-toggleable {background-color: white;}#sk-container-id-6 label.sk-toggleable__label {cursor: pointer;display: block;width: 100%;margin-bottom: 0;padding: 0.3em;box-sizing: border-box;text-align: center;}#sk-container-id-6 label.sk-toggleable__label-arrow:before {content: \"▸\";float: left;margin-right: 0.25em;color: #696969;}#sk-container-id-6 label.sk-toggleable__label-arrow:hover:before {color: black;}#sk-container-id-6 div.sk-estimator:hover label.sk-toggleable__label-arrow:before {color: black;}#sk-container-id-6 div.sk-toggleable__content {max-height: 0;max-width: 0;overflow: hidden;text-align: left;background-color: #f0f8ff;}#sk-container-id-6 div.sk-toggleable__content pre {margin: 0.2em;color: black;border-radius: 0.25em;background-color: #f0f8ff;}#sk-container-id-6 input.sk-toggleable__control:checked~div.sk-toggleable__content {max-height: 200px;max-width: 100%;overflow: auto;}#sk-container-id-6 input.sk-toggleable__control:checked~label.sk-toggleable__label-arrow:before {content: \"▾\";}#sk-container-id-6 div.sk-estimator input.sk-toggleable__control:checked~label.sk-toggleable__label {background-color: #d4ebff;}#sk-container-id-6 div.sk-label input.sk-toggleable__control:checked~label.sk-toggleable__label {background-color: #d4ebff;}#sk-container-id-6 input.sk-hidden--visually {border: 0;clip: rect(1px 1px 1px 1px);clip: rect(1px, 1px, 1px, 1px);height: 1px;margin: -1px;overflow: hidden;padding: 0;position: absolute;width: 1px;}#sk-container-id-6 div.sk-estimator {font-family: monospace;background-color: #f0f8ff;border: 1px dotted black;border-radius: 0.25em;box-sizing: border-box;margin-bottom: 0.5em;}#sk-container-id-6 div.sk-estimator:hover {background-color: #d4ebff;}#sk-container-id-6 div.sk-parallel-item::after {content: \"\";width: 100%;border-bottom: 1px solid gray;flex-grow: 1;}#sk-container-id-6 div.sk-label:hover label.sk-toggleable__label {background-color: #d4ebff;}#sk-container-id-6 div.sk-serial::before {content: \"\";position: absolute;border-left: 1px solid gray;box-sizing: border-box;top: 0;bottom: 0;left: 50%;z-index: 0;}#sk-container-id-6 div.sk-serial {display: flex;flex-direction: column;align-items: center;background-color: white;padding-right: 0.2em;padding-left: 0.2em;position: relative;}#sk-container-id-6 div.sk-item {position: relative;z-index: 1;}#sk-container-id-6 div.sk-parallel {display: flex;align-items: stretch;justify-content: center;background-color: white;position: relative;}#sk-container-id-6 div.sk-item::before, #sk-container-id-6 div.sk-parallel-item::before {content: \"\";position: absolute;border-left: 1px solid gray;box-sizing: border-box;top: 0;bottom: 0;left: 50%;z-index: -1;}#sk-container-id-6 div.sk-parallel-item {display: flex;flex-direction: column;z-index: 1;position: relative;background-color: white;}#sk-container-id-6 div.sk-parallel-item:first-child::after {align-self: flex-end;width: 50%;}#sk-container-id-6 div.sk-parallel-item:last-child::after {align-self: flex-start;width: 50%;}#sk-container-id-6 div.sk-parallel-item:only-child::after {width: 0;}#sk-container-id-6 div.sk-dashed-wrapped {border: 1px dashed gray;margin: 0 0.4em 0.5em 0.4em;box-sizing: border-box;padding-bottom: 0.4em;background-color: white;}#sk-container-id-6 div.sk-label label {font-family: monospace;font-weight: bold;display: inline-block;line-height: 1.2em;}#sk-container-id-6 div.sk-label-container {text-align: center;}#sk-container-id-6 div.sk-container {/* jupyter's `normalize.less` sets `[hidden] { display: none; }` but bootstrap.min.css set `[hidden] { display: none !important; }` so we also need the `!important` here to be able to override the default hidden behavior on the sphinx rendered scikit-learn.org. See: https://github.com/scikit-learn/scikit-learn/issues/21755 */display: inline-block !important;position: relative;}#sk-container-id-6 div.sk-text-repr-fallback {display: none;}</style><div id=\"sk-container-id-6\" class=\"sk-top-container\"><div class=\"sk-text-repr-fallback\"><pre>GaussianNB()</pre><b>In a Jupyter environment, please rerun this cell to show the HTML representation or trust the notebook. <br />On GitHub, the HTML representation is unable to render, please try loading this page with nbviewer.org.</b></div><div class=\"sk-container\" hidden><div class=\"sk-item\"><div class=\"sk-estimator sk-toggleable\"><input class=\"sk-toggleable__control sk-hidden--visually\" id=\"sk-estimator-id-6\" type=\"checkbox\" checked><label for=\"sk-estimator-id-6\" class=\"sk-toggleable__label sk-toggleable__label-arrow\">GaussianNB</label><div class=\"sk-toggleable__content\"><pre>GaussianNB()</pre></div></div></div></div></div>"
            ]
          },
          "metadata": {},
          "execution_count": 81
        }
      ],
      "source": [
        "# Fitting XGBClassifier\n",
        "from xgboost import XGBClassifier\n",
        "cls_XG = XGBClassifier()\n",
        "cls_XG.fit(Fea_resampled,Tar_resampled)\n",
        "\n",
        "# Fitting Naive Bayes\n",
        "from sklearn.naive_bayes import GaussianNB\n",
        "cls_NB = GaussianNB()\n",
        "cls_NB.fit(Fea_resampled,Tar_resampled)\n",
        "\n",
        "# Fitting Decision Tree\n",
        "from sklearn.tree import DecisionTreeClassifier\n",
        "cls_DT = DecisionTreeClassifier()\n",
        "cls_DT.fit(Fea_resampled,Tar_resampled)\n",
        "\n",
        "# Fitting Random Forest\n",
        "from sklearn.ensemble import RandomForestClassifier\n",
        "cls_RF = RandomForestClassifier(n_estimators = 5, criterion = 'entropy')\n",
        "cls_RF.fit(Fea_resampled, Tar_resampled)\n",
        "\n"
      ]
    },
    {
      "cell_type": "code",
      "execution_count": null,
      "metadata": {
        "ExecuteTime": {
          "end_time": "2025-01-02T20:38:01.026812Z",
          "start_time": "2025-01-02T20:38:01.022491Z"
        },
        "_cell_guid": "b515f6a5-4c6f-4ed1-a1fa-e22cbee9e803",
        "_uuid": "072f3870b2f54986c4ca345453dd3fa0adbad86c",
        "id": "UhVe7H1kHARl"
      },
      "outputs": [],
      "source": [
        "# Predicting the results\n",
        "Tar_pred_XG = cls_XG.predict(Fea_test)\n",
        "Tar_pred_RF = cls_RF.predict(Fea_test)\n",
        "Tar_pred_DT = cls_DT.predict(Fea_test)\n",
        "Tar_pred_NB = cls_NB.predict(Fea_test)\n",
        "\n",
        "# Creating the confusion matrix\n",
        "from sklearn.metrics import confusion_matrix\n",
        "cm_XG = confusion_matrix(Tar_test,Tar_pred_XG)\n",
        "\n",
        "# Check the shape of the confusion matrix\n",
        "if cm_XG.shape == (1, 1):\n",
        "    # If only one class is present, accuracy is 1 if that class was predicted correctly\n",
        "    accuracy_XG = 1 if cm_XG[0, 0] > 0 else 0\n",
        "else:\n",
        "    # If multiple classes are present, calculate accuracy as usual\n",
        "    accuracy_XG = (cm_XG[0,0]+cm_XG[1,1])/len(Tar_test)\n",
        "\n",
        "cm_DT = confusion_matrix(Tar_test,Tar_pred_DT)\n",
        "# Check the shape of the confusion matrix\n",
        "if cm_DT.shape == (1, 1):\n",
        "    # If only one class is present, accuracy is 1 if that class was predicted correctly\n",
        "    accuracy_DT = 1 if cm_DT[0, 0] > 0 else 0\n",
        "else:\n",
        "    # If multiple classes are present, calculate accuracy as usual\n",
        "    accuracy_DT = (cm_DT[0,0]+cm_DT[1,1])/len(Tar_test)\n",
        "\n",
        "cm_NB = confusion_matrix(Tar_test,Tar_pred_NB)\n",
        "# Check the shape of the confusion matrix\n",
        "if cm_NB.shape == (1, 1):\n",
        "    # If only one class is present, accuracy is 1 if that class was predicted correctly\n",
        "    accuracy_NB = 1 if cm_NB[0, 0] > 0 else 0\n",
        "else:\n",
        "    # If multiple classes are present, calculate accuracy as usual\n",
        "    accuracy_NB = (cm_NB[0,0]+cm_NB[1,1])/len(Tar_test)\n",
        "\n",
        "cm_RF = confusion_matrix(Tar_test,Tar_pred_RF)\n",
        "# Check the shape of the confusion matrix\n",
        "if cm_RF.shape == (1, 1):\n",
        "    # If only one class is present, accuracy is 1 if that class was predicted correctly\n",
        "    accuracy_RF = 1 if cm_RF[0, 0] > 0 else 0\n",
        "else:\n",
        "    # If multiple classes are present, calculate accuracy as usual\n",
        "    accuracy_RF = (cm_RF[0,0]+cm_RF[1,1])/len(Tar_test)"
      ]
    },
    {
      "cell_type": "markdown",
      "metadata": {
        "_cell_guid": "ec1fb258-8062-4753-a62d-55c7397a99aa",
        "_uuid": "4edb1db03ad3ddb2c300f56538354c22428062b3",
        "id": "gp9a4K87HARl"
      },
      "source": [
        "\n"
      ]
    },
    {
      "cell_type": "code",
      "execution_count": null,
      "metadata": {
        "ExecuteTime": {
          "end_time": "2025-01-02T20:38:01.042327Z",
          "start_time": "2025-01-02T20:38:01.041166Z"
        },
        "_cell_guid": "db2bdc9f-81b5-47d3-8091-4d53109bd84c",
        "_uuid": "eee0243b30f097e2e442a721eecf6268a91406f2",
        "colab": {
          "base_uri": "https://localhost:8080/"
        },
        "id": "ZDwlxBOnHARl",
        "outputId": "bb1f79df-122f-4056-df2c-83b57b30e102"
      },
      "outputs": [
        {
          "output_type": "stream",
          "name": "stdout",
          "text": [
            "\n",
            "For Model 1 - XGBoost:\n",
            "Precision: [1.]\n",
            "Recall: [1.]\n",
            "F-Score: [1.]\n",
            "Accuracy_XGBoost: 100 %\n",
            "\n",
            "For Model 3 - Random Forest:\n",
            "Precision: [1.]\n",
            "Recall: [1.]\n",
            "F-Score: [1.]\n",
            "Accuracy_RF: 100 %\n",
            "\n",
            "For Model 6 - Decision Tree:\n",
            "Precision: [1.]\n",
            "Recall: [1.]\n",
            "F-Score: [1.]\n",
            "Accuracy_RF: 100 %\n",
            "\n",
            "For Model 7 - Naive Bayes Classifier:\n",
            "Precision: [1.]\n",
            "Recall: [1.]\n",
            "F-Score: [1.]\n",
            "Accuracy_NaiveBayes: 100 %\n"
          ]
        }
      ],
      "source": [
        "from sklearn.metrics import precision_recall_fscore_support\n",
        "precision_XG, recall_XG, f_score_XG, support = precision_recall_fscore_support(Tar_test, Tar_pred_XG, average = None)\n",
        "print(\"\\n - XGBoost MODEL:\")\n",
        "print(\"Precision:\",precision_XG)\n",
        "print(\"Recall:\",recall_XG)\n",
        "print(\"F-Score:\",f_score_XG)\n",
        "print(\"Accuracy_XGBoost:\",accuracy_XG*100,'%')\n",
        "\n",
        "precision_RFF, recall_RF, f_score_RF, support = precision_recall_fscore_support(Tar_test, Tar_pred_RF, average = None)\n",
        "print(\"\\nFor Model 3 - Random Forest:\")\n",
        "print(\"Precision:\",precision_RF)\n",
        "print(\"Recall:\",recall_RF)\n",
        "print(\"F-Score:\",f_score_RF)\n",
        "print(\"Accuracy_RF:\",accuracy_RF*100,'%')\n",
        "\n",
        "precision_DT, recall_DT, f_score_DT, support = precision_recall_fscore_support(Tar_test, Tar_pred_DT, average = None)\n",
        "print(\"\\nFor Model 6 - Decision Tree:\")\n",
        "print(\"Precision:\",precision_DT)\n",
        "print(\"Recall:\",recall_DT)\n",
        "print(\"F-Score:\",f_score_DT)\n",
        "print(\"Accuracy_RF:\",accuracy_DT*100,'%')\n",
        "\n",
        "precision_NB, recall_NB, f_score_NB, support = precision_recall_fscore_support(Tar_test, Tar_pred_NB, average = None)\n",
        "print(\"\\nFor Model 7 - Naive Bayes Classifier:\")\n",
        "print(\"Precision:\",precision_NB)\n",
        "print(\"Recall:\",recall_NB)\n",
        "print(\"F-Score:\",f_score_NB)\n",
        "print(\"Accuracy_NaiveBayes:\",accuracy_NB*100,'%')"
      ]
    },
    {
      "cell_type": "code",
      "execution_count": null,
      "metadata": {
        "_cell_guid": "6673c31e-e9d4-49d8-9126-a388b257238a",
        "_uuid": "a678f58a02df58ac61bc1dbb6ca3c5db06b1ec4d",
        "colab": {
          "base_uri": "https://localhost:8080/",
          "height": 521
        },
        "id": "5GmXwD2SHARm",
        "outputId": "ddd92814-b650-4ba1-fbd6-2470271da974"
      },
      "outputs": [
        {
          "output_type": "stream",
          "name": "stderr",
          "text": [
            "<ipython-input-85-2efbf524cbd0>:8: DeprecationWarning: Conversion of an array with ndim > 0 to a scalar is deprecated, and will error in future. Ensure you extract a single element from your array before performing this operation. (Deprecated NumPy 1.25.)\n",
            "  ax.annotate('%0.3f' % (ACCURACY[j]),(number[j], ACCURACY[j]))\n"
          ]
        },
        {
          "output_type": "execute_result",
          "data": {
            "text/plain": [
              "Text(0, 0.5, 'ACCURACY')"
            ]
          },
          "metadata": {},
          "execution_count": 85
        },
        {
          "output_type": "display_data",
          "data": {
            "text/plain": [
              "<Figure size 640x480 with 1 Axes>"
            ],
            "image/png": "[encoded data removed]"
          },
          "metadata": {}
        }
      ],
      "source": [
        "# Comparing the Accuracies of various models\n",
        "ACCURACY = np.vstack((accuracy_XG,accuracy_RFF,accuracy_DT,accuracy_NB))\n",
        "number = np.array([1,3,6,7])\n",
        "fig = plt.figure()\n",
        "ax = fig.add_subplot(111)\n",
        "ax.scatter(number, ACCURACY, color = 'r', marker = 'o', linewidths = 3)\n",
        "for j in range(0,len(ACCURACY)):\n",
        "       ax.annotate('%0.3f' % (ACCURACY[j]),(number[j], ACCURACY[j]))\n",
        "\n",
        "plt.xlabel('MODELS')\n",
        "plt.ylabel('ACCURACY')"
      ]
    },
    {
      "cell_type": "code",
      "execution_count": null,
      "metadata": {
        "ExecuteTime": {
          "end_time": "2025-01-02T20:38:01.052034Z",
          "start_time": "2025-01-02T20:38:01.049508Z"
        },
        "_cell_guid": "ee3684e4-99ec-49e8-990a-1eae3b06b66b",
        "_uuid": "e72de3f7e0c49543ae7b80d76c306193864dc26c",
        "colab": {
          "base_uri": "https://localhost:8080/",
          "height": 521
        },
        "id": "8PYKzy0jHARm",
        "outputId": "ffe7b215-00c9-4000-94bf-339ee555e085"
      },
      "outputs": [
        {
          "output_type": "stream",
          "name": "stderr",
          "text": [
            "<ipython-input-14-2e9e4697aa8f>:8: DeprecationWarning: Conversion of an array with ndim > 0 to a scalar is deprecated, and will error in future. Ensure you extract a single element from your array before performing this operation. (Deprecated NumPy 1.25.)\n",
            "  ax.annotate('%0.3f' % (F_SCORE[i]),(number[i], F_SCORE[i]))\n"
          ]
        },
        {
          "output_type": "execute_result",
          "data": {
            "text/plain": [
              "Text(0, 0.5, 'F-SCORE')"
            ]
          },
          "metadata": {},
          "execution_count": 14
        },
        {
          "output_type": "display_data",
          "data": {
            "text/plain": [
              "<Figure size 640x480 with 1 Axes>"
            ],
            "image/png": "[encoded data removed]"
          },
          "metadata": {}
        }
      ],
      "source": [
        "# Comparing the F-Values of various models\n",
        "F_SCORE = np.vstack((f_score_XG[1],f_score_RF[1],f_score_DT[1],f_score_NB[1]))\n",
        "number = np.array([1,3,6,7])\n",
        "fig = plt.figure()\n",
        "ax = fig.add_subplot(111)\n",
        "ax.scatter(number, F_SCORE, marker = 'D', linewidths = 3)\n",
        "for i in range(0,len(F_SCORE)):\n",
        "       ax.annotate('%0.3f' % (F_SCORE[i]),(number[i], F_SCORE[i]))\n",
        "\n",
        "plt.xlabel('MODELS')\n",
        "plt.ylabel('F-SCORE')\n",
        "\n"
      ]
    },
    {
      "cell_type": "code",
      "execution_count": null,
      "metadata": {
        "ExecuteTime": {
          "end_time": "2025-01-02T20:38:01.057193Z",
          "start_time": "2025-01-02T20:38:01.056189Z"
        },
        "_cell_guid": "07742935-dfb6-4197-a1a9-a7840849a47c",
        "_kg_hide-output": true,
        "_uuid": "f36cd0b61263cfb5d33837d4f10b3fa4a75b23b8",
        "id": "1iVZJXsIHARm"
      },
      "outputs": [],
      "source": []
    },
    {
      "cell_type": "code",
      "execution_count": null,
      "metadata": {
        "ExecuteTime": {
          "end_time": "2025-01-02T20:38:01.058947Z",
          "start_time": "2025-01-02T20:38:01.058664Z"
        },
        "_cell_guid": "b11a7b16-dd04-48e9-b5df-499a004123ad",
        "_uuid": "52acc2399622c13d7c3a6db31915b1515d680b6f",
        "colab": {
          "base_uri": "https://localhost:8080/",
          "height": 447
        },
        "id": "YDoAgzQtHARn",
        "outputId": "4c99d9bf-3418-480c-f3a6-8a063eb51b96"
      },
      "outputs": [
        {
          "output_type": "execute_result",
          "data": {
            "text/plain": [
              "[<matplotlib.lines.Line2D at 0x7b9f59d80c40>]"
            ]
          },
          "metadata": {},
          "execution_count": 15
        },
        {
          "output_type": "display_data",
          "data": {
            "text/plain": [
              "<Figure size 640x480 with 1 Axes>"
            ],
            "image/png": "[encoded data removed]"
          },
          "metadata": {}
        }
      ],
      "source": [
        "# Plot ROC curves\n",
        "from sklearn.metrics import roc_curve, auc\n",
        "from numpy import interp\n",
        "\n",
        "tprs = []\n",
        "aucs = []\n",
        "mean_fpr = np.linspace(0, 1, 100)\n",
        "\n",
        "cls_XG = cls_XG.predict_proba(Fea_test)\n",
        "cls_RF = cls_RF.predict_proba(Fea_test)\n",
        "cls_DT = cls_DT.predict_proba(Fea_test)\n",
        "cls_NB = cls_NB.predict_proba(Fea_test)\n",
        "\n",
        "classifiers = [cls_XG, cls_RF, cls_DT, cls_NB]\n",
        "\n",
        "# Compute ROC curve and area the curve\n",
        "for i, classifier in enumerate(classifiers):\n",
        "       probas_ = classifier.predict_proba(Fea_test)\n",
        "       fpr, tpr, thresholds = roc_curve(Tar_test, probas_[:, 1]) # Use probas_[:,1] directly\n",
        "       tprs.append(interp(mean_fpr, fpr, tpr))\n",
        "       tprs[-1][0] = 0.0\n",
        "       roc_auc = auc(fpr, tpr)\n",
        "       aucs.append(roc_auc)\n",
        "       plt.plot(fpr, tpr, lw=2, alpha=0.8,\n",
        "                label='Model %d (AUC = %0.2f)' % (i+1, roc_auc))\n",
        "\n",
        "plt.plot([0, 1], [0, 1], linestyle='--', lw=2, color='r',\n",
        "         label='Luck', alpha=.8)"
      ]
    },
    {
      "cell_type": "code",
      "execution_count": null,
      "metadata": {
        "ExecuteTime": {
          "end_time": "2025-01-02T20:38:01.063344Z",
          "start_time": "2025-01-02T20:38:01.061302Z"
        },
        "_cell_guid": "583436af-8a8b-41af-9fa9-17bc86cf5ca9",
        "_uuid": "c73b67bab15ad0b03e48241d62ae382c8d5824ac",
        "colab": {
          "base_uri": "https://localhost:8080/"
        },
        "id": "o8pjWDXeHARn",
        "outputId": "9001e271-9c45-4aab-a9fc-7c2acc371bbf"
      },
      "outputs": [
        {
          "output_type": "stream",
          "name": "stdout",
          "text": [
            "[(0.0, 2475), (1.0, 2475)]\n",
            "[(0.0, 2475), (1.0, 2475)]\n",
            "[(0.0, 2475), (1.0, 2483)]\n"
          ]
        }
      ],
      "source": [
        "# Testing various oversampling techniques\n",
        "from imblearn.over_sampling import SMOTE, ADASYN\n",
        "from collections import Counter\n",
        "from imblearn.over_sampling import RandomOverSampler\n",
        "\n",
        "# Random Oversampler\n",
        "ros = RandomOverSampler(random_state=0)\n",
        "Fea_resampled_ros, Tar_resampled_ros = ros.fit_resample(fea_train, target_train)\n",
        "print(sorted(Counter(Tar_resampled_ros).items()))\n",
        "\n",
        "# Synthetic Minority Oversampling Technique(SMOTE)\n",
        "Fea_resampled_smote, Tar_resampled_smote = SMOTE().fit_resample(fea_train, target_train)\n",
        "print(sorted(Counter(Tar_resampled_smote).items()))\n",
        "\n",
        "# Adaptive Synthetic (ADASYN) sampling method\n",
        "Fea_resampled_adasyn, Tar_resampled_adasyn = ADASYN().fit_resample(fea_train, target_train)\n",
        "print(sorted(Counter(Tar_resampled_adasyn).items()))\n"
      ]
    },
    {
      "cell_type": "code",
      "execution_count": null,
      "metadata": {
        "ExecuteTime": {
          "end_time": "2025-01-02T20:38:01.068831Z",
          "start_time": "2025-01-02T20:38:01.065584Z"
        },
        "_cell_guid": "f78f9c6e-bacd-4a20-8a87-cbcd2ecc7497",
        "_uuid": "c610fc7c0d72302b06057d968e927424e9520004",
        "id": "C1ZqfszNHARo"
      },
      "outputs": [],
      "source": [
        "# Feature scaling\n",
        "Fea_resampled_ros = sc.fit_transform(Fea_resampled_ros)\n",
        "Fea_resampled_smote = sc.fit_transform(Fea_resampled_smote)\n",
        "Fea_resampled_adasyn = sc.fit_transform(Fea_resampled_adasyn)\n",
        "fea_train_no_sampling = sc.fit_transform(fea_train_no_sampling)"
      ]
    },
    {
      "cell_type": "code",
      "execution_count": null,
      "metadata": {
        "ExecuteTime": {
          "end_time": "2025-01-02T20:38:01.071035Z",
          "start_time": "2025-01-02T20:38:01.071035Z"
        },
        "_cell_guid": "73389563-83c9-4448-aad8-8b3124a1e3c9",
        "_uuid": "8045a78a599350991ff0bd89778e261d438ac9e1",
        "colab": {
          "base_uri": "https://localhost:8080/",
          "height": 248
        },
        "id": "iF8nVuDjHARo",
        "outputId": "a2e976bf-675e-42b3-f736-51b6c3e4e652"
      },
      "outputs": [
        {
          "output_type": "execute_result",
          "data": {
            "text/plain": [
              "XGBClassifier(base_score=None, booster=None, callbacks=None,\n",
              "              colsample_bylevel=None, colsample_bynode=None,\n",
              "              colsample_bytree=None, early_stopping_rounds=None,\n",
              "              enable_categorical=False, eval_metric=None, feature_types=None,\n",
              "              gamma=None, gpu_id=None, grow_policy=None, importance_type=None,\n",
              "              interaction_constraints=None, learning_rate=None, max_bin=None,\n",
              "              max_cat_threshold=None, max_cat_to_onehot=None,\n",
              "              max_delta_step=None, max_depth=None, max_leaves=None,\n",
              "              min_child_weight=None, missing=nan, monotone_constraints=None,\n",
              "              n_estimators=100, n_jobs=None, num_parallel_tree=None,\n",
              "              predictor=None, random_state=None, ...)"
            ],
            "text/html": [
              "<style>#sk-container-id-2 {color: black;background-color: white;}#sk-container-id-2 pre{padding: 0;}#sk-container-id-2 div.sk-toggleable {background-color: white;}#sk-container-id-2 label.sk-toggleable__label {cursor: pointer;display: block;width: 100%;margin-bottom: 0;padding: 0.3em;box-sizing: border-box;text-align: center;}#sk-container-id-2 label.sk-toggleable__label-arrow:before {content: \"▸\";float: left;margin-right: 0.25em;color: #696969;}#sk-container-id-2 label.sk-toggleable__label-arrow:hover:before {color: black;}#sk-container-id-2 div.sk-estimator:hover label.sk-toggleable__label-arrow:before {color: black;}#sk-container-id-2 div.sk-toggleable__content {max-height: 0;max-width: 0;overflow: hidden;text-align: left;background-color: #f0f8ff;}#sk-container-id-2 div.sk-toggleable__content pre {margin: 0.2em;color: black;border-radius: 0.25em;background-color: #f0f8ff;}#sk-container-id-2 input.sk-toggleable__control:checked~div.sk-toggleable__content {max-height: 200px;max-width: 100%;overflow: auto;}#sk-container-id-2 input.sk-toggleable__control:checked~label.sk-toggleable__label-arrow:before {content: \"▾\";}#sk-container-id-2 div.sk-estimator input.sk-toggleable__control:checked~label.sk-toggleable__label {background-color: #d4ebff;}#sk-container-id-2 div.sk-label input.sk-toggleable__control:checked~label.sk-toggleable__label {background-color: #d4ebff;}#sk-container-id-2 input.sk-hidden--visually {border: 0;clip: rect(1px 1px 1px 1px);clip: rect(1px, 1px, 1px, 1px);height: 1px;margin: -1px;overflow: hidden;padding: 0;position: absolute;width: 1px;}#sk-container-id-2 div.sk-estimator {font-family: monospace;background-color: #f0f8ff;border: 1px dotted black;border-radius: 0.25em;box-sizing: border-box;margin-bottom: 0.5em;}#sk-container-id-2 div.sk-estimator:hover {background-color: #d4ebff;}#sk-container-id-2 div.sk-parallel-item::after {content: \"\";width: 100%;border-bottom: 1px solid gray;flex-grow: 1;}#sk-container-id-2 div.sk-label:hover label.sk-toggleable__label {background-color: #d4ebff;}#sk-container-id-2 div.sk-serial::before {content: \"\";position: absolute;border-left: 1px solid gray;box-sizing: border-box;top: 0;bottom: 0;left: 50%;z-index: 0;}#sk-container-id-2 div.sk-serial {display: flex;flex-direction: column;align-items: center;background-color: white;padding-right: 0.2em;padding-left: 0.2em;position: relative;}#sk-container-id-2 div.sk-item {position: relative;z-index: 1;}#sk-container-id-2 div.sk-parallel {display: flex;align-items: stretch;justify-content: center;background-color: white;position: relative;}#sk-container-id-2 div.sk-item::before, #sk-container-id-2 div.sk-parallel-item::before {content: \"\";position: absolute;border-left: 1px solid gray;box-sizing: border-box;top: 0;bottom: 0;left: 50%;z-index: -1;}#sk-container-id-2 div.sk-parallel-item {display: flex;flex-direction: column;z-index: 1;position: relative;background-color: white;}#sk-container-id-2 div.sk-parallel-item:first-child::after {align-self: flex-end;width: 50%;}#sk-container-id-2 div.sk-parallel-item:last-child::after {align-self: flex-start;width: 50%;}#sk-container-id-2 div.sk-parallel-item:only-child::after {width: 0;}#sk-container-id-2 div.sk-dashed-wrapped {border: 1px dashed gray;margin: 0 0.4em 0.5em 0.4em;box-sizing: border-box;padding-bottom: 0.4em;background-color: white;}#sk-container-id-2 div.sk-label label {font-family: monospace;font-weight: bold;display: inline-block;line-height: 1.2em;}#sk-container-id-2 div.sk-label-container {text-align: center;}#sk-container-id-2 div.sk-container {/* jupyter's `normalize.less` sets `[hidden] { display: none; }` but bootstrap.min.css set `[hidden] { display: none !important; }` so we also need the `!important` here to be able to override the default hidden behavior on the sphinx rendered scikit-learn.org. See: https://github.com/scikit-learn/scikit-learn/issues/21755 */display: inline-block !important;position: relative;}#sk-container-id-2 div.sk-text-repr-fallback {display: none;}</style><div id=\"sk-container-id-2\" class=\"sk-top-container\"><div class=\"sk-text-repr-fallback\"><pre>XGBClassifier(base_score=None, booster=None, callbacks=None,\n",
              "              colsample_bylevel=None, colsample_bynode=None,\n",
              "              colsample_bytree=None, early_stopping_rounds=None,\n",
              "              enable_categorical=False, eval_metric=None, feature_types=None,\n",
              "              gamma=None, gpu_id=None, grow_policy=None, importance_type=None,\n",
              "              interaction_constraints=None, learning_rate=None, max_bin=None,\n",
              "              max_cat_threshold=None, max_cat_to_onehot=None,\n",
              "              max_delta_step=None, max_depth=None, max_leaves=None,\n",
              "              min_child_weight=None, missing=nan, monotone_constraints=None,\n",
              "              n_estimators=100, n_jobs=None, num_parallel_tree=None,\n",
              "              predictor=None, random_state=None, ...)</pre><b>In a Jupyter environment, please rerun this cell to show the HTML representation or trust the notebook. <br />On GitHub, the HTML representation is unable to render, please try loading this page with nbviewer.org.</b></div><div class=\"sk-container\" hidden><div class=\"sk-item\"><div class=\"sk-estimator sk-toggleable\"><input class=\"sk-toggleable__control sk-hidden--visually\" id=\"sk-estimator-id-2\" type=\"checkbox\" checked><label for=\"sk-estimator-id-2\" class=\"sk-toggleable__label sk-toggleable__label-arrow\">XGBClassifier</label><div class=\"sk-toggleable__content\"><pre>XGBClassifier(base_score=None, booster=None, callbacks=None,\n",
              "              colsample_bylevel=None, colsample_bynode=None,\n",
              "              colsample_bytree=None, early_stopping_rounds=None,\n",
              "              enable_categorical=False, eval_metric=None, feature_types=None,\n",
              "              gamma=None, gpu_id=None, grow_policy=None, importance_type=None,\n",
              "              interaction_constraints=None, learning_rate=None, max_bin=None,\n",
              "              max_cat_threshold=None, max_cat_to_onehot=None,\n",
              "              max_delta_step=None, max_depth=None, max_leaves=None,\n",
              "              min_child_weight=None, missing=nan, monotone_constraints=None,\n",
              "              n_estimators=100, n_jobs=None, num_parallel_tree=None,\n",
              "              predictor=None, random_state=None, ...)</pre></div></div></div></div></div>"
            ]
          },
          "metadata": {},
          "execution_count": 18
        }
      ],
      "source": [
        "# Fitting XGBoost Classifier to the training data: Model 5\n",
        "\n",
        "# For Random Oversampling\n",
        "classifier_ros = XGBClassifier()\n",
        "classifier_ros.fit(Fea_resampled_ros, Tar_resampled_ros)\n",
        "\n",
        "# For SMOTE\n",
        "classifier_smote = XGBClassifier()\n",
        "classifier_smote.fit(Fea_resampled_smote, Tar_resampled_smote)\n",
        "\n",
        "# For ADASYN\n",
        "classifier_adasyn = XGBClassifier()\n",
        "classifier_adasyn.fit(Fea_resampled_adasyn, Tar_resampled_adasyn)\n",
        "\n",
        "# Without Sampling\n",
        "classifier_wo_sampling = XGBClassifier()\n",
        "classifier_wo_sampling.fit(fea_train_no_sampling, target_train_no_sampling)"
      ]
    },
    {
      "cell_type": "code",
      "execution_count": null,
      "metadata": {
        "ExecuteTime": {
          "end_time": "2025-01-02T20:38:01.073139Z",
          "start_time": "2025-01-02T20:38:01.072135Z"
        },
        "_cell_guid": "4c747def-b53b-4441-9392-68b40772a3be",
        "_uuid": "133d0e045f76ed79354d0d8b43371fee99871e31",
        "collapsed": true,
        "jupyter": {
          "outputs_hidden": true
        },
        "id": "aLS0GNWOHARo"
      },
      "outputs": [],
      "source": [
        "# Predicting the results\n",
        "Tar_pred_ros = classifier_ros.predict(Fea_test)\n",
        "Tar_pred_smote = classifier_smote.predict(Fea_test)\n",
        "Tar_pred_adasyn = classifier_adasyn.predict(Fea_test)\n",
        "Tar_pred_wo_sampling = classifier_wo_sampling.predict(Fea_test)"
      ]
    },
    {
      "cell_type": "code",
      "execution_count": null,
      "metadata": {
        "ExecuteTime": {
          "start_time": "2025-01-02T20:38:01.075225Z"
        },
        "_cell_guid": "8cc6f2b0-1147-415d-a21f-71bb1db8444b",
        "_uuid": "1252682efe5cc8f0f76fa0223d7c4839fbe2ba4e",
        "collapsed": true,
        "jupyter": {
          "outputs_hidden": true
        },
        "id": "TQyjEXF8HARo"
      },
      "outputs": [],
      "source": [
        "# Creating the confusion matrix\n",
        "cm_ros = confusion_matrix(Tar_test,Tar_pred_ros)\n",
        "accuracy_ros = (cm_ros[0,0]+cm_ros[1,1])/len(Tar_test)\n",
        "\n",
        "cm_smote = confusion_matrix(Tar_test,Tar_pred_smote)\n",
        "accuracy_smote = (cm_smote[0,0]+cm_smote[1,1])/len(Tar_test)\n",
        "\n",
        "cm_adasyn = confusion_matrix(Tar_test,Tar_pred_adasyn)\n",
        "accuracTar_adasyn = (cm_adasyn[0,0]+cm_adasyn[1,1])/len(Tar_test)\n",
        "\n",
        "cm_wo_sampling = confusion_matrix(Tar_test,Tar_pred_wo_sampling)\n",
        "accuracy_wo_sampling = (cm_wo_sampling[0,0]+cm_wo_sampling[1,1])/len(Tar_test)\n",
        "\n"
      ]
    },
    {
      "cell_type": "code",
      "execution_count": null,
      "metadata": {
        "_cell_guid": "5f5ea64b-fcf6-499b-b37b-87d0800ccd6e",
        "_uuid": "7aa7166e7acf71550019d40d60243f443706a403",
        "colab": {
          "base_uri": "https://localhost:8080/"
        },
        "id": "BCwSyaeDHARo",
        "outputId": "076a2459-9fce-40d0-bf3b-feeeb9fb0465"
      },
      "outputs": [
        {
          "output_type": "stream",
          "name": "stdout",
          "text": [
            "\n",
            "For RandomOversampling:\n",
            "Precision: [0.99010989 0.16666667]\n",
            "Recall: [0.84919887 0.7804878 ]\n",
            "F-Score: [0.91425672 0.27467811]\n",
            "Accuracy_RandomOversampling: 84.66424682395645 %\n",
            "\n",
            "For SMOTE:\n",
            "Precision: [0.96934866 0.15517241]\n",
            "Recall: [0.95381715 0.2195122 ]\n",
            "F-Score: [0.96152019 0.18181818]\n",
            "Accuracy_smote: 92.6497277676951 %\n",
            "\n",
            "For ADASYN:\n",
            "Precision: [0.98916576 0.17318436]\n",
            "Recall: [0.86050895 0.75609756]\n",
            "F-Score: [0.9203629  0.28181818]\n",
            "Accuracy_adasyn: 85.66243194192378 %\n",
            "\n",
            "Without Sampling:\n",
            "Precision: [0.98916576 0.17318436]\n",
            "Recall: [0.86050895 0.75609756]\n",
            "F-Score: [0.9203629  0.28181818]\n",
            "Accuracy_wo_sampling: 96.27949183303085 %\n"
          ]
        }
      ],
      "source": [
        "from sklearn.metrics import precision_recall_fscore_support\n",
        "precision_ros, recall_ros, f_score_ros, support = precision_recall_fscore_support(Tar_test, Tar_pred_ros, average = None)\n",
        "print(\"\\nFor RandomOversampling:\")\n",
        "print(\"Precision:\",precision_ros)\n",
        "print(\"Recall:\",recall_ros)\n",
        "print(\"F-Score:\",f_score_ros)\n",
        "print(\"Accuracy_RandomOversampling:\",accuracy_ros*100,'%')\n",
        "\n",
        "from sklearn.metrics import precision_recall_fscore_support\n",
        "precision_smote, recall_smote, f_score_smote, support = precision_recall_fscore_support(Tar_test, Tar_pred_smote, average = None)\n",
        "print(\"\\nFor SMOTE:\")\n",
        "print(\"Precision:\",precision_smote)\n",
        "print(\"Recall:\",recall_smote)\n",
        "print(\"F-Score:\",f_score_smote)\n",
        "print(\"Accuracy_smote:\",accuracy_smote*100,'%')\n",
        "\n",
        "from sklearn.metrics import precision_recall_fscore_support\n",
        "precision_adasyn, recall_adasyn, f_score_adasyn, support = precision_recall_fscore_support(Tar_test, Tar_pred_adasyn, average = None)\n",
        "print(\"\\nFor ADASYN:\")\n",
        "print(\"Precision:\",precision_adasyn)\n",
        "print(\"Recall:\",recall_adasyn)\n",
        "print(\"F-Score:\",f_score_adasyn)\n",
        "print(\"Accuracy_adasyn:\",accuracy_adasyn*100,'%')\n",
        "\n",
        "from sklearn.metrics import precision_recall_fscore_support\n",
        "precision_wo_sampling, recall_wo_sampling, f_score_wo_sampling, support = precision_recall_fscore_support(Tar_test, Tar_pred_adasyn, average = None)\n",
        "print(\"\\nWithout Sampling:\")\n",
        "print(\"Precision:\",precision_wo_sampling)\n",
        "print(\"Recall:\",recall_wo_sampling)\n",
        "print(\"F-Score:\",f_score_wo_sampling)\n",
        "print(\"Accuracy_wo_sampling:\",accuracy_wo_sampling*100,'%')"
      ]
    },
    {
      "cell_type": "code",
      "execution_count": null,
      "metadata": {
        "ExecuteTime": {
          "start_time": "2025-01-02T20:38:01.078412Z"
        },
        "_cell_guid": "83583f68-2756-426e-b764-3e03fadd5c0f",
        "_uuid": "60c7950495229147d981bb6d437a4e587e26501e",
        "colab": {
          "base_uri": "https://localhost:8080/",
          "height": 521
        },
        "id": "3oIjtt69HARp",
        "outputId": "318d7d02-e984-4034-ec2d-95931f66ab09"
      },
      "outputs": [
        {
          "output_type": "stream",
          "name": "stderr",
          "text": [
            "<ipython-input-22-6f098840909a>:9: DeprecationWarning: Conversion of an array with ndim > 0 to a scalar is deprecated, and will error in future. Ensure you extract a single element from your array before performing this operation. (Deprecated NumPy 1.25.)\n",
            "  ax.annotate('%0.3f' % (F_SCORE[i]),(number[i], F_SCORE[i]))\n"
          ]
        },
        {
          "output_type": "execute_result",
          "data": {
            "text/plain": [
              "Text(0, 0.5, 'F-SCORE')"
            ]
          },
          "metadata": {},
          "execution_count": 22
        },
        {
          "output_type": "display_data",
          "data": {
            "text/plain": [
              "<Figure size 640x480 with 1 Axes>"
            ],
            "image/png": "[encoded data removed]"
          },
          "metadata": {}
        }
      ],
      "source": [
        "# Comparing the F-Values of various models\n",
        "# Assuming f_score_XG corresponds to the F-score of the custom sampling technique\n",
        "F_SCORE = np.vstack((f_score_ros[1],f_score_smote[1],f_score_adasyn[1],f_score_wo_sampling[1],f_score_XG[1],)) #,f_score_2[1]\n",
        "number = np.array([1,2,3,4,5])\n",
        "fig = plt.figure()\n",
        "ax = fig.add_subplot(111)\n",
        "ax.scatter(number, F_SCORE, marker = 'x', linewidths = 3)\n",
        "for i in range(0,len(F_SCORE)):\n",
        "       ax.annotate('%0.3f' % (F_SCORE[i]),(number[i], F_SCORE[i]))\n",
        "\n",
        "plt.xlabel('Sampling Techniques')\n",
        "plt.ylabel('F-SCORE')"
      ]
    }
  ],
  "metadata": {
    "kernelspec": {
      "display_name": "Python 3 (ipykernel)",
      "language": "python",
      "name": "python3"
    },
    "language_info": {
      "codemirror_mode": {
        "name": "ipython",
        "version": 3
      },
      "file_extension": ".py",
      "mimetype": "text/x-python",
      "name": "python",
      "nbconvert_exporter": "python",
      "pygments_lexer": "ipython3",
      "version": "3.9.21"
    },
    "colab": {
      "provenance": []
    }
  },
  "nbformat": 4,
  "nbformat_minor": 0
}