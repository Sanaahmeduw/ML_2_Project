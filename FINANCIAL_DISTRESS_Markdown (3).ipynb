{
  "cells": [
    {
      "cell_type": "code",
      "execution_count": 1,
      "metadata": {
        "ExecuteTime": {
          "end_time": "2025-01-02T20:37:56.081095Z",
          "start_time": "2025-01-02T20:37:53.200380Z"
        },
        "_cell_guid": "2410ea3d-9502-4dbf-b781-ecf60c802d5b",
        "_kg_hide-output": true,
        "_uuid": "8d47f3fd23eee3a43e0a1759f692d518a51abfbe",
        "id": "O8PUgg-kHARZ"
      },
      "outputs": [],
      "source": [
        "# Importing the libraries\n",
        "import numpy as np # linear algebra\n",
        "import pandas as pd # data processing, CSV file I/O (e.g. pd.read_csv)\n",
        "import matplotlib.pyplot as plt\n",
        "import os\n",
        "import io\n",
        "import random\n",
        "from subprocess import check_output\n",
        "\n"
      ]
    },
    {
      "cell_type": "code",
      "source": [
        "pip install xgboost==1.7.6"
      ],
      "metadata": {
        "colab": {
          "base_uri": "https://localhost:8080/"
        },
        "id": "X4l9bFfhZ73Y",
        "outputId": "849e30f6-be3b-41f4-e5a8-f2be40979a75"
      },
      "execution_count": 2,
      "outputs": [
        {
          "output_type": "stream",
          "name": "stdout",
          "text": [
            "Collecting xgboost==1.7.6\n",
            "  Downloading xgboost-1.7.6-py3-none-manylinux2014_x86_64.whl.metadata (1.9 kB)\n",
            "Requirement already satisfied: numpy in /usr/local/lib/python3.10/dist-packages (from xgboost==1.7.6) (1.26.4)\n",
            "Requirement already satisfied: scipy in /usr/local/lib/python3.10/dist-packages (from xgboost==1.7.6) (1.13.1)\n",
            "Downloading xgboost-1.7.6-py3-none-manylinux2014_x86_64.whl (200.3 MB)\n",
            "\u001b[2K   \u001b[90m━━━━━━━━━━━━━━━━━━━━━━━━━━━━━━━━━━━━━━━━\u001b[0m \u001b[32m200.3/200.3 MB\u001b[0m \u001b[31m3.7 MB/s\u001b[0m eta \u001b[36m0:00:00\u001b[0m\n",
            "\u001b[?25hInstalling collected packages: xgboost\n",
            "  Attempting uninstall: xgboost\n",
            "    Found existing installation: xgboost 2.1.3\n",
            "    Uninstalling xgboost-2.1.3:\n",
            "      Successfully uninstalled xgboost-2.1.3\n",
            "Successfully installed xgboost-1.7.6\n"
          ]
        }
      ]
    },
    {
      "cell_type": "code",
      "source": [
        "pip install scikit-learn==1.2.0"
      ],
      "metadata": {
        "colab": {
          "base_uri": "https://localhost:8080/"
        },
        "id": "vHZeFTsiZYS2",
        "outputId": "be824f60-6c8d-4847-a32e-6b22416f5e7f"
      },
      "execution_count": 3,
      "outputs": [
        {
          "output_type": "stream",
          "name": "stdout",
          "text": [
            "Collecting scikit-learn==1.2.0\n",
            "  Downloading scikit_learn-1.2.0-cp310-cp310-manylinux_2_17_x86_64.manylinux2014_x86_64.whl.metadata (11 kB)\n",
            "Requirement already satisfied: numpy>=1.17.3 in /usr/local/lib/python3.10/dist-packages (from scikit-learn==1.2.0) (1.26.4)\n",
            "Requirement already satisfied: scipy>=1.3.2 in /usr/local/lib/python3.10/dist-packages (from scikit-learn==1.2.0) (1.13.1)\n",
            "Requirement already satisfied: joblib>=1.1.1 in /usr/local/lib/python3.10/dist-packages (from scikit-learn==1.2.0) (1.4.2)\n",
            "Requirement already satisfied: threadpoolctl>=2.0.0 in /usr/local/lib/python3.10/dist-packages (from scikit-learn==1.2.0) (3.5.0)\n",
            "Downloading scikit_learn-1.2.0-cp310-cp310-manylinux_2_17_x86_64.manylinux2014_x86_64.whl (9.5 MB)\n",
            "\u001b[2K   \u001b[90m━━━━━━━━━━━━━━━━━━━━━━━━━━━━━━━━━━━━━━━━\u001b[0m \u001b[32m9.5/9.5 MB\u001b[0m \u001b[31m38.9 MB/s\u001b[0m eta \u001b[36m0:00:00\u001b[0m\n",
            "\u001b[?25hInstalling collected packages: scikit-learn\n",
            "  Attempting uninstall: scikit-learn\n",
            "    Found existing installation: scikit-learn 1.6.0\n",
            "    Uninstalling scikit-learn-1.6.0:\n",
            "      Successfully uninstalled scikit-learn-1.6.0\n",
            "\u001b[31mERROR: pip's dependency resolver does not currently take into account all the packages that are installed. This behaviour is the source of the following dependency conflicts.\n",
            "bigframes 1.31.0 requires scikit-learn>=1.2.2, but you have scikit-learn 1.2.0 which is incompatible.\n",
            "imbalanced-learn 0.13.0 requires scikit-learn<2,>=1.3.2, but you have scikit-learn 1.2.0 which is incompatible.\n",
            "mlxtend 0.23.3 requires scikit-learn>=1.3.1, but you have scikit-learn 1.2.0 which is incompatible.\u001b[0m\u001b[31m\n",
            "\u001b[0mSuccessfully installed scikit-learn-1.2.0\n"
          ]
        }
      ]
    },
    {
      "cell_type": "code",
      "source": [
        "pip install imbalanced-learn==0.10.1"
      ],
      "metadata": {
        "colab": {
          "base_uri": "https://localhost:8080/"
        },
        "id": "DoA9o3FDfIns",
        "outputId": "b29a5dd3-2e13-4238-d784-2ba77120d5bc"
      },
      "execution_count": 4,
      "outputs": [
        {
          "output_type": "stream",
          "name": "stdout",
          "text": [
            "Collecting imbalanced-learn==0.10.1\n",
            "  Downloading imbalanced_learn-0.10.1-py3-none-any.whl.metadata (8.2 kB)\n",
            "Requirement already satisfied: numpy>=1.17.3 in /usr/local/lib/python3.10/dist-packages (from imbalanced-learn==0.10.1) (1.26.4)\n",
            "Requirement already satisfied: scipy>=1.3.2 in /usr/local/lib/python3.10/dist-packages (from imbalanced-learn==0.10.1) (1.13.1)\n",
            "Requirement already satisfied: scikit-learn>=1.0.2 in /usr/local/lib/python3.10/dist-packages (from imbalanced-learn==0.10.1) (1.2.0)\n",
            "Requirement already satisfied: joblib>=1.1.1 in /usr/local/lib/python3.10/dist-packages (from imbalanced-learn==0.10.1) (1.4.2)\n",
            "Requirement already satisfied: threadpoolctl>=2.0.0 in /usr/local/lib/python3.10/dist-packages (from imbalanced-learn==0.10.1) (3.5.0)\n",
            "Downloading imbalanced_learn-0.10.1-py3-none-any.whl (226 kB)\n",
            "\u001b[2K   \u001b[90m━━━━━━━━━━━━━━━━━━━━━━━━━━━━━━━━━━━━━━━━\u001b[0m \u001b[32m226.0/226.0 kB\u001b[0m \u001b[31m4.2 MB/s\u001b[0m eta \u001b[36m0:00:00\u001b[0m\n",
            "\u001b[?25hInstalling collected packages: imbalanced-learn\n",
            "  Attempting uninstall: imbalanced-learn\n",
            "    Found existing installation: imbalanced-learn 0.13.0\n",
            "    Uninstalling imbalanced-learn-0.13.0:\n",
            "      Successfully uninstalled imbalanced-learn-0.13.0\n",
            "Successfully installed imbalanced-learn-0.10.1\n"
          ]
        }
      ]
    },
    {
      "cell_type": "code",
      "source": [
        "pip install --upgrade xgboost"
      ],
      "metadata": {
        "colab": {
          "base_uri": "https://localhost:8080/"
        },
        "id": "rpWX259RZSZ2",
        "outputId": "d72266d4-2eff-459d-838e-10b138073dd8"
      },
      "execution_count": 5,
      "outputs": [
        {
          "output_type": "stream",
          "name": "stdout",
          "text": [
            "Requirement already satisfied: xgboost in /usr/local/lib/python3.10/dist-packages (1.7.6)\n",
            "Collecting xgboost\n",
            "  Downloading xgboost-2.1.3-py3-none-manylinux_2_28_x86_64.whl.metadata (2.1 kB)\n",
            "Requirement already satisfied: numpy in /usr/local/lib/python3.10/dist-packages (from xgboost) (1.26.4)\n",
            "Requirement already satisfied: nvidia-nccl-cu12 in /usr/local/lib/python3.10/dist-packages (from xgboost) (2.24.3)\n",
            "Requirement already satisfied: scipy in /usr/local/lib/python3.10/dist-packages (from xgboost) (1.13.1)\n",
            "Downloading xgboost-2.1.3-py3-none-manylinux_2_28_x86_64.whl (153.9 MB)\n",
            "\u001b[2K   \u001b[90m━━━━━━━━━━━━━━━━━━━━━━━━━━━━━━━━━━━━━━━━\u001b[0m \u001b[32m153.9/153.9 MB\u001b[0m \u001b[31m4.7 MB/s\u001b[0m eta \u001b[36m0:00:00\u001b[0m\n",
            "\u001b[?25hInstalling collected packages: xgboost\n",
            "  Attempting uninstall: xgboost\n",
            "    Found existing installation: xgboost 1.7.6\n",
            "    Uninstalling xgboost-1.7.6:\n",
            "      Successfully uninstalled xgboost-1.7.6\n",
            "Successfully installed xgboost-2.1.3\n"
          ]
        }
      ]
    },
    {
      "cell_type": "code",
      "source": [
        "from google.colab import files\n",
        "uploaded = files.upload()\n",
        "import io\n",
        "import pandas as pd\n",
        "Fin_DIS = pd.read_csv(io.BytesIO(uploaded['Financial Distress.csv']))"
      ],
      "metadata": {
        "colab": {
          "base_uri": "https://localhost:8080/",
          "height": 73
        },
        "id": "O9nJLd2mH_Xs",
        "outputId": "23f068d9-297c-4802-a8a8-bf3b9bea7295"
      },
      "execution_count": 18,
      "outputs": [
        {
          "output_type": "display_data",
          "data": {
            "text/plain": [
              "<IPython.core.display.HTML object>"
            ],
            "text/html": [
              "\n",
              "     <input type=\"file\" id=\"files-f03482da-ad88-4e47-95b7-574f5a3b9417\" name=\"files[]\" multiple disabled\n",
              "        style=\"border:none\" />\n",
              "     <output id=\"result-f03482da-ad88-4e47-95b7-574f5a3b9417\">\n",
              "      Upload widget is only available when the cell has been executed in the\n",
              "      current browser session. Please rerun this cell to enable.\n",
              "      </output>\n",
              "      <script>// Copyright 2017 Google LLC\n",
              "//\n",
              "// Licensed under the Apache License, Version 2.0 (the \"License\");\n",
              "// you may not use this file except in compliance with the License.\n",
              "// You may obtain a copy of the License at\n",
              "//\n",
              "//      http://www.apache.org/licenses/LICENSE-2.0\n",
              "//\n",
              "// Unless required by applicable law or agreed to in writing, software\n",
              "// distributed under the License is distributed on an \"AS IS\" BASIS,\n",
              "// WITHOUT WARRANTIES OR CONDITIONS OF ANY KIND, either express or implied.\n",
              "// See the License for the specific language governing permissions and\n",
              "// limitations under the License.\n",
              "\n",
              "/**\n",
              " * @fileoverview Helpers for google.colab Python module.\n",
              " */\n",
              "(function(scope) {\n",
              "function span(text, styleAttributes = {}) {\n",
              "  const element = document.createElement('span');\n",
              "  element.textContent = text;\n",
              "  for (const key of Object.keys(styleAttributes)) {\n",
              "    element.style[key] = styleAttributes[key];\n",
              "  }\n",
              "  return element;\n",
              "}\n",
              "\n",
              "// Max number of bytes which will be uploaded at a time.\n",
              "const MAX_PAYLOAD_SIZE = 100 * 1024;\n",
              "\n",
              "function _uploadFiles(inputId, outputId) {\n",
              "  const steps = uploadFilesStep(inputId, outputId);\n",
              "  const outputElement = document.getElementById(outputId);\n",
              "  // Cache steps on the outputElement to make it available for the next call\n",
              "  // to uploadFilesContinue from Python.\n",
              "  outputElement.steps = steps;\n",
              "\n",
              "  return _uploadFilesContinue(outputId);\n",
              "}\n",
              "\n",
              "// This is roughly an async generator (not supported in the browser yet),\n",
              "// where there are multiple asynchronous steps and the Python side is going\n",
              "// to poll for completion of each step.\n",
              "// This uses a Promise to block the python side on completion of each step,\n",
              "// then passes the result of the previous step as the input to the next step.\n",
              "function _uploadFilesContinue(outputId) {\n",
              "  const outputElement = document.getElementById(outputId);\n",
              "  const steps = outputElement.steps;\n",
              "\n",
              "  const next = steps.next(outputElement.lastPromiseValue);\n",
              "  return Promise.resolve(next.value.promise).then((value) => {\n",
              "    // Cache the last promise value to make it available to the next\n",
              "    // step of the generator.\n",
              "    outputElement.lastPromiseValue = value;\n",
              "    return next.value.response;\n",
              "  });\n",
              "}\n",
              "\n",
              "/**\n",
              " * Generator function which is called between each async step of the upload\n",
              " * process.\n",
              " * @param {string} inputId Element ID of the input file picker element.\n",
              " * @param {string} outputId Element ID of the output display.\n",
              " * @return {!Iterable<!Object>} Iterable of next steps.\n",
              " */\n",
              "function* uploadFilesStep(inputId, outputId) {\n",
              "  const inputElement = document.getElementById(inputId);\n",
              "  inputElement.disabled = false;\n",
              "\n",
              "  const outputElement = document.getElementById(outputId);\n",
              "  outputElement.innerHTML = '';\n",
              "\n",
              "  const pickedPromise = new Promise((resolve) => {\n",
              "    inputElement.addEventListener('change', (e) => {\n",
              "      resolve(e.target.files);\n",
              "    });\n",
              "  });\n",
              "\n",
              "  const cancel = document.createElement('button');\n",
              "  inputElement.parentElement.appendChild(cancel);\n",
              "  cancel.textContent = 'Cancel upload';\n",
              "  const cancelPromise = new Promise((resolve) => {\n",
              "    cancel.onclick = () => {\n",
              "      resolve(null);\n",
              "    };\n",
              "  });\n",
              "\n",
              "  // Wait for the user to pick the files.\n",
              "  const files = yield {\n",
              "    promise: Promise.race([pickedPromise, cancelPromise]),\n",
              "    response: {\n",
              "      action: 'starting',\n",
              "    }\n",
              "  };\n",
              "\n",
              "  cancel.remove();\n",
              "\n",
              "  // Disable the input element since further picks are not allowed.\n",
              "  inputElement.disabled = true;\n",
              "\n",
              "  if (!files) {\n",
              "    return {\n",
              "      response: {\n",
              "        action: 'complete',\n",
              "      }\n",
              "    };\n",
              "  }\n",
              "\n",
              "  for (const file of files) {\n",
              "    const li = document.createElement('li');\n",
              "    li.append(span(file.name, {fontWeight: 'bold'}));\n",
              "    li.append(span(\n",
              "        `(${file.type || 'n/a'}) - ${file.size} bytes, ` +\n",
              "        `last modified: ${\n",
              "            file.lastModifiedDate ? file.lastModifiedDate.toLocaleDateString() :\n",
              "                                    'n/a'} - `));\n",
              "    const percent = span('0% done');\n",
              "    li.appendChild(percent);\n",
              "\n",
              "    outputElement.appendChild(li);\n",
              "\n",
              "    const fileDataPromise = new Promise((resolve) => {\n",
              "      const reader = new FileReader();\n",
              "      reader.onload = (e) => {\n",
              "        resolve(e.target.result);\n",
              "      };\n",
              "      reader.readAsArrayBuffer(file);\n",
              "    });\n",
              "    // Wait for the data to be ready.\n",
              "    let fileData = yield {\n",
              "      promise: fileDataPromise,\n",
              "      response: {\n",
              "        action: 'continue',\n",
              "      }\n",
              "    };\n",
              "\n",
              "    // Use a chunked sending to avoid message size limits. See b/62115660.\n",
              "    let position = 0;\n",
              "    do {\n",
              "      const length = Math.min(fileData.byteLength - position, MAX_PAYLOAD_SIZE);\n",
              "      const chunk = new Uint8Array(fileData, position, length);\n",
              "      position += length;\n",
              "\n",
              "      const base64 = btoa(String.fromCharCode.apply(null, chunk));\n",
              "      yield {\n",
              "        response: {\n",
              "          action: 'append',\n",
              "          file: file.name,\n",
              "          data: base64,\n",
              "        },\n",
              "      };\n",
              "\n",
              "      let percentDone = fileData.byteLength === 0 ?\n",
              "          100 :\n",
              "          Math.round((position / fileData.byteLength) * 100);\n",
              "      percent.textContent = `${percentDone}% done`;\n",
              "\n",
              "    } while (position < fileData.byteLength);\n",
              "  }\n",
              "\n",
              "  // All done.\n",
              "  yield {\n",
              "    response: {\n",
              "      action: 'complete',\n",
              "    }\n",
              "  };\n",
              "}\n",
              "\n",
              "scope.google = scope.google || {};\n",
              "scope.google.colab = scope.google.colab || {};\n",
              "scope.google.colab._files = {\n",
              "  _uploadFiles,\n",
              "  _uploadFilesContinue,\n",
              "};\n",
              "})(self);\n",
              "</script> "
            ]
          },
          "metadata": {}
        },
        {
          "output_type": "stream",
          "name": "stdout",
          "text": [
            "Saving Financial Distress.csv to Financial Distress.csv\n"
          ]
        }
      ]
    },
    {
      "cell_type": "code",
      "source": [
        "Fin_DIS.head()\n",
        "Fin_DIS.tail()"
      ],
      "metadata": {
        "colab": {
          "base_uri": "https://localhost:8080/",
          "height": 273
        },
        "id": "QPV8LJfVIMMA",
        "outputId": "210095c6-6ae1-415b-eb56-42e3fa4731e5"
      },
      "execution_count": 16,
      "outputs": [
        {
          "output_type": "execute_result",
          "data": {
            "text/plain": [
              "      Company  Time  Financial Distress      x1       x2       x3       x4  \\\n",
              "3667      422    10                 0.0  2.2605  0.20289  0.16037  0.18588   \n",
              "3668      422    11                 0.0  1.9615  0.21644  0.20095  0.21642   \n",
              "3669      422    12                 0.0  1.7099  0.20797  0.26136  0.21399   \n",
              "3670      422    13                 0.0  1.5590  0.18545  0.30728  0.19307   \n",
              "3671      422    14                 0.0  1.6148  0.17676  0.36369  0.18442   \n",
              "\n",
              "           x5       x6      x7  ...   x73    x74    x75    x76     x77   x78  \\\n",
              "3667  0.17597  0.19840  2.2236  ...  22.0  100.0  100.0  100.0  17.125  14.5   \n",
              "3668  0.20359  0.18987  1.9382  ...  28.0   91.5  130.5  132.4  20.000  14.5   \n",
              "3669  0.19367  0.18389  1.6898  ...  32.0   87.1  175.9  178.1  20.000  14.5   \n",
              "3670  0.17214  0.17068  1.5389  ...  30.0   92.9  203.2  204.5  22.000  22.0   \n",
              "3671  0.16955  0.19786  1.5842  ...  29.0   91.7  227.5  214.5  21.000  20.5   \n",
              "\n",
              "       x79      x81  x82  x83  \n",
              "3667  -7.0  0.43638    4   41  \n",
              "3668 -16.0  0.43802    5   42  \n",
              "3669 -20.2  0.48241    6   43  \n",
              "3670   6.4  0.50077    7   44  \n",
              "3671   8.6  0.61103    8   45  \n",
              "\n",
              "[5 rows x 85 columns]"
            ],
            "text/html": [
              "\n",
              "  <div id=\"df-a65091b0-7f40-4692-a6a5-106c760f93af\" class=\"colab-df-container\">\n",
              "    <div>\n",
              "<style scoped>\n",
              "    .dataframe tbody tr th:only-of-type {\n",
              "        vertical-align: middle;\n",
              "    }\n",
              "\n",
              "    .dataframe tbody tr th {\n",
              "        vertical-align: top;\n",
              "    }\n",
              "\n",
              "    .dataframe thead th {\n",
              "        text-align: right;\n",
              "    }\n",
              "</style>\n",
              "<table border=\"1\" class=\"dataframe\">\n",
              "  <thead>\n",
              "    <tr style=\"text-align: right;\">\n",
              "      <th></th>\n",
              "      <th>Company</th>\n",
              "      <th>Time</th>\n",
              "      <th>Financial Distress</th>\n",
              "      <th>x1</th>\n",
              "      <th>x2</th>\n",
              "      <th>x3</th>\n",
              "      <th>x4</th>\n",
              "      <th>x5</th>\n",
              "      <th>x6</th>\n",
              "      <th>x7</th>\n",
              "      <th>...</th>\n",
              "      <th>x73</th>\n",
              "      <th>x74</th>\n",
              "      <th>x75</th>\n",
              "      <th>x76</th>\n",
              "      <th>x77</th>\n",
              "      <th>x78</th>\n",
              "      <th>x79</th>\n",
              "      <th>x81</th>\n",
              "      <th>x82</th>\n",
              "      <th>x83</th>\n",
              "    </tr>\n",
              "  </thead>\n",
              "  <tbody>\n",
              "    <tr>\n",
              "      <th>3667</th>\n",
              "      <td>422</td>\n",
              "      <td>10</td>\n",
              "      <td>0.0</td>\n",
              "      <td>2.2605</td>\n",
              "      <td>0.20289</td>\n",
              "      <td>0.16037</td>\n",
              "      <td>0.18588</td>\n",
              "      <td>0.17597</td>\n",
              "      <td>0.19840</td>\n",
              "      <td>2.2236</td>\n",
              "      <td>...</td>\n",
              "      <td>22.0</td>\n",
              "      <td>100.0</td>\n",
              "      <td>100.0</td>\n",
              "      <td>100.0</td>\n",
              "      <td>17.125</td>\n",
              "      <td>14.5</td>\n",
              "      <td>-7.0</td>\n",
              "      <td>0.43638</td>\n",
              "      <td>4</td>\n",
              "      <td>41</td>\n",
              "    </tr>\n",
              "    <tr>\n",
              "      <th>3668</th>\n",
              "      <td>422</td>\n",
              "      <td>11</td>\n",
              "      <td>0.0</td>\n",
              "      <td>1.9615</td>\n",
              "      <td>0.21644</td>\n",
              "      <td>0.20095</td>\n",
              "      <td>0.21642</td>\n",
              "      <td>0.20359</td>\n",
              "      <td>0.18987</td>\n",
              "      <td>1.9382</td>\n",
              "      <td>...</td>\n",
              "      <td>28.0</td>\n",
              "      <td>91.5</td>\n",
              "      <td>130.5</td>\n",
              "      <td>132.4</td>\n",
              "      <td>20.000</td>\n",
              "      <td>14.5</td>\n",
              "      <td>-16.0</td>\n",
              "      <td>0.43802</td>\n",
              "      <td>5</td>\n",
              "      <td>42</td>\n",
              "    </tr>\n",
              "    <tr>\n",
              "      <th>3669</th>\n",
              "      <td>422</td>\n",
              "      <td>12</td>\n",
              "      <td>0.0</td>\n",
              "      <td>1.7099</td>\n",
              "      <td>0.20797</td>\n",
              "      <td>0.26136</td>\n",
              "      <td>0.21399</td>\n",
              "      <td>0.19367</td>\n",
              "      <td>0.18389</td>\n",
              "      <td>1.6898</td>\n",
              "      <td>...</td>\n",
              "      <td>32.0</td>\n",
              "      <td>87.1</td>\n",
              "      <td>175.9</td>\n",
              "      <td>178.1</td>\n",
              "      <td>20.000</td>\n",
              "      <td>14.5</td>\n",
              "      <td>-20.2</td>\n",
              "      <td>0.48241</td>\n",
              "      <td>6</td>\n",
              "      <td>43</td>\n",
              "    </tr>\n",
              "    <tr>\n",
              "      <th>3670</th>\n",
              "      <td>422</td>\n",
              "      <td>13</td>\n",
              "      <td>0.0</td>\n",
              "      <td>1.5590</td>\n",
              "      <td>0.18545</td>\n",
              "      <td>0.30728</td>\n",
              "      <td>0.19307</td>\n",
              "      <td>0.17214</td>\n",
              "      <td>0.17068</td>\n",
              "      <td>1.5389</td>\n",
              "      <td>...</td>\n",
              "      <td>30.0</td>\n",
              "      <td>92.9</td>\n",
              "      <td>203.2</td>\n",
              "      <td>204.5</td>\n",
              "      <td>22.000</td>\n",
              "      <td>22.0</td>\n",
              "      <td>6.4</td>\n",
              "      <td>0.50077</td>\n",
              "      <td>7</td>\n",
              "      <td>44</td>\n",
              "    </tr>\n",
              "    <tr>\n",
              "      <th>3671</th>\n",
              "      <td>422</td>\n",
              "      <td>14</td>\n",
              "      <td>0.0</td>\n",
              "      <td>1.6148</td>\n",
              "      <td>0.17676</td>\n",
              "      <td>0.36369</td>\n",
              "      <td>0.18442</td>\n",
              "      <td>0.16955</td>\n",
              "      <td>0.19786</td>\n",
              "      <td>1.5842</td>\n",
              "      <td>...</td>\n",
              "      <td>29.0</td>\n",
              "      <td>91.7</td>\n",
              "      <td>227.5</td>\n",
              "      <td>214.5</td>\n",
              "      <td>21.000</td>\n",
              "      <td>20.5</td>\n",
              "      <td>8.6</td>\n",
              "      <td>0.61103</td>\n",
              "      <td>8</td>\n",
              "      <td>45</td>\n",
              "    </tr>\n",
              "  </tbody>\n",
              "</table>\n",
              "<p>5 rows × 85 columns</p>\n",
              "</div>\n",
              "    <div class=\"colab-df-buttons\">\n",
              "\n",
              "  <div class=\"colab-df-container\">\n",
              "    <button class=\"colab-df-convert\" onclick=\"convertToInteractive('df-a65091b0-7f40-4692-a6a5-106c760f93af')\"\n",
              "            title=\"Convert this dataframe to an interactive table.\"\n",
              "            style=\"display:none;\">\n",
              "\n",
              "  <svg xmlns=\"http://www.w3.org/2000/svg\" height=\"24px\" viewBox=\"0 -960 960 960\">\n",
              "    <path d=\"M120-120v-720h720v720H120Zm60-500h600v-160H180v160Zm220 220h160v-160H400v160Zm0 220h160v-160H400v160ZM180-400h160v-160H180v160Zm440 0h160v-160H620v160ZM180-180h160v-160H180v160Zm440 0h160v-160H620v160Z\"/>\n",
              "  </svg>\n",
              "    </button>\n",
              "\n",
              "  <style>\n",
              "    .colab-df-container {\n",
              "      display:flex;\n",
              "      gap: 12px;\n",
              "    }\n",
              "\n",
              "    .colab-df-convert {\n",
              "      background-color: #E8F0FE;\n",
              "      border: none;\n",
              "      border-radius: 50%;\n",
              "      cursor: pointer;\n",
              "      display: none;\n",
              "      fill: #1967D2;\n",
              "      height: 32px;\n",
              "      padding: 0 0 0 0;\n",
              "      width: 32px;\n",
              "    }\n",
              "\n",
              "    .colab-df-convert:hover {\n",
              "      background-color: #E2EBFA;\n",
              "      box-shadow: 0px 1px 2px rgba(60, 64, 67, 0.3), 0px 1px 3px 1px rgba(60, 64, 67, 0.15);\n",
              "      fill: #174EA6;\n",
              "    }\n",
              "\n",
              "    .colab-df-buttons div {\n",
              "      margin-bottom: 4px;\n",
              "    }\n",
              "\n",
              "    [theme=dark] .colab-df-convert {\n",
              "      background-color: #3B4455;\n",
              "      fill: #D2E3FC;\n",
              "    }\n",
              "\n",
              "    [theme=dark] .colab-df-convert:hover {\n",
              "      background-color: #434B5C;\n",
              "      box-shadow: 0px 1px 3px 1px rgba(0, 0, 0, 0.15);\n",
              "      filter: drop-shadow(0px 1px 2px rgba(0, 0, 0, 0.3));\n",
              "      fill: #FFFFFF;\n",
              "    }\n",
              "  </style>\n",
              "\n",
              "    <script>\n",
              "      const buttonEl =\n",
              "        document.querySelector('#df-a65091b0-7f40-4692-a6a5-106c760f93af button.colab-df-convert');\n",
              "      buttonEl.style.display =\n",
              "        google.colab.kernel.accessAllowed ? 'block' : 'none';\n",
              "\n",
              "      async function convertToInteractive(key) {\n",
              "        const element = document.querySelector('#df-a65091b0-7f40-4692-a6a5-106c760f93af');\n",
              "        const dataTable =\n",
              "          await google.colab.kernel.invokeFunction('convertToInteractive',\n",
              "                                                    [key], {});\n",
              "        if (!dataTable) return;\n",
              "\n",
              "        const docLinkHtml = 'Like what you see? Visit the ' +\n",
              "          '<a target=\"_blank\" href=https://colab.research.google.com/notebooks/data_table.ipynb>data table notebook</a>'\n",
              "          + ' to learn more about interactive tables.';\n",
              "        element.innerHTML = '';\n",
              "        dataTable['output_type'] = 'display_data';\n",
              "        await google.colab.output.renderOutput(dataTable, element);\n",
              "        const docLink = document.createElement('div');\n",
              "        docLink.innerHTML = docLinkHtml;\n",
              "        element.appendChild(docLink);\n",
              "      }\n",
              "    </script>\n",
              "  </div>\n",
              "\n",
              "\n",
              "<div id=\"df-e8e85d23-02e1-40d9-8bf3-a838159f5faf\">\n",
              "  <button class=\"colab-df-quickchart\" onclick=\"quickchart('df-e8e85d23-02e1-40d9-8bf3-a838159f5faf')\"\n",
              "            title=\"Suggest charts\"\n",
              "            style=\"display:none;\">\n",
              "\n",
              "<svg xmlns=\"http://www.w3.org/2000/svg\" height=\"24px\"viewBox=\"0 0 24 24\"\n",
              "     width=\"24px\">\n",
              "    <g>\n",
              "        <path d=\"M19 3H5c-1.1 0-2 .9-2 2v14c0 1.1.9 2 2 2h14c1.1 0 2-.9 2-2V5c0-1.1-.9-2-2-2zM9 17H7v-7h2v7zm4 0h-2V7h2v10zm4 0h-2v-4h2v4z\"/>\n",
              "    </g>\n",
              "</svg>\n",
              "  </button>\n",
              "\n",
              "<style>\n",
              "  .colab-df-quickchart {\n",
              "      --bg-color: #E8F0FE;\n",
              "      --fill-color: #1967D2;\n",
              "      --hover-bg-color: #E2EBFA;\n",
              "      --hover-fill-color: #174EA6;\n",
              "      --disabled-fill-color: #AAA;\n",
              "      --disabled-bg-color: #DDD;\n",
              "  }\n",
              "\n",
              "  [theme=dark] .colab-df-quickchart {\n",
              "      --bg-color: #3B4455;\n",
              "      --fill-color: #D2E3FC;\n",
              "      --hover-bg-color: #434B5C;\n",
              "      --hover-fill-color: #FFFFFF;\n",
              "      --disabled-bg-color: #3B4455;\n",
              "      --disabled-fill-color: #666;\n",
              "  }\n",
              "\n",
              "  .colab-df-quickchart {\n",
              "    background-color: var(--bg-color);\n",
              "    border: none;\n",
              "    border-radius: 50%;\n",
              "    cursor: pointer;\n",
              "    display: none;\n",
              "    fill: var(--fill-color);\n",
              "    height: 32px;\n",
              "    padding: 0;\n",
              "    width: 32px;\n",
              "  }\n",
              "\n",
              "  .colab-df-quickchart:hover {\n",
              "    background-color: var(--hover-bg-color);\n",
              "    box-shadow: 0 1px 2px rgba(60, 64, 67, 0.3), 0 1px 3px 1px rgba(60, 64, 67, 0.15);\n",
              "    fill: var(--button-hover-fill-color);\n",
              "  }\n",
              "\n",
              "  .colab-df-quickchart-complete:disabled,\n",
              "  .colab-df-quickchart-complete:disabled:hover {\n",
              "    background-color: var(--disabled-bg-color);\n",
              "    fill: var(--disabled-fill-color);\n",
              "    box-shadow: none;\n",
              "  }\n",
              "\n",
              "  .colab-df-spinner {\n",
              "    border: 2px solid var(--fill-color);\n",
              "    border-color: transparent;\n",
              "    border-bottom-color: var(--fill-color);\n",
              "    animation:\n",
              "      spin 1s steps(1) infinite;\n",
              "  }\n",
              "\n",
              "  @keyframes spin {\n",
              "    0% {\n",
              "      border-color: transparent;\n",
              "      border-bottom-color: var(--fill-color);\n",
              "      border-left-color: var(--fill-color);\n",
              "    }\n",
              "    20% {\n",
              "      border-color: transparent;\n",
              "      border-left-color: var(--fill-color);\n",
              "      border-top-color: var(--fill-color);\n",
              "    }\n",
              "    30% {\n",
              "      border-color: transparent;\n",
              "      border-left-color: var(--fill-color);\n",
              "      border-top-color: var(--fill-color);\n",
              "      border-right-color: var(--fill-color);\n",
              "    }\n",
              "    40% {\n",
              "      border-color: transparent;\n",
              "      border-right-color: var(--fill-color);\n",
              "      border-top-color: var(--fill-color);\n",
              "    }\n",
              "    60% {\n",
              "      border-color: transparent;\n",
              "      border-right-color: var(--fill-color);\n",
              "    }\n",
              "    80% {\n",
              "      border-color: transparent;\n",
              "      border-right-color: var(--fill-color);\n",
              "      border-bottom-color: var(--fill-color);\n",
              "    }\n",
              "    90% {\n",
              "      border-color: transparent;\n",
              "      border-bottom-color: var(--fill-color);\n",
              "    }\n",
              "  }\n",
              "</style>\n",
              "\n",
              "  <script>\n",
              "    async function quickchart(key) {\n",
              "      const quickchartButtonEl =\n",
              "        document.querySelector('#' + key + ' button');\n",
              "      quickchartButtonEl.disabled = true;  // To prevent multiple clicks.\n",
              "      quickchartButtonEl.classList.add('colab-df-spinner');\n",
              "      try {\n",
              "        const charts = await google.colab.kernel.invokeFunction(\n",
              "            'suggestCharts', [key], {});\n",
              "      } catch (error) {\n",
              "        console.error('Error during call to suggestCharts:', error);\n",
              "      }\n",
              "      quickchartButtonEl.classList.remove('colab-df-spinner');\n",
              "      quickchartButtonEl.classList.add('colab-df-quickchart-complete');\n",
              "    }\n",
              "    (() => {\n",
              "      let quickchartButtonEl =\n",
              "        document.querySelector('#df-e8e85d23-02e1-40d9-8bf3-a838159f5faf button');\n",
              "      quickchartButtonEl.style.display =\n",
              "        google.colab.kernel.accessAllowed ? 'block' : 'none';\n",
              "    })();\n",
              "  </script>\n",
              "</div>\n",
              "\n",
              "    </div>\n",
              "  </div>\n"
            ],
            "application/vnd.google.colaboratory.intrinsic+json": {
              "type": "dataframe"
            }
          },
          "metadata": {},
          "execution_count": 16
        }
      ]
    },
    {
      "cell_type": "code",
      "execution_count": 19,
      "metadata": {
        "ExecuteTime": {
          "end_time": "2025-01-02T20:37:56.170818Z",
          "start_time": "2025-01-02T20:37:56.126023Z"
        },
        "_cell_guid": "416b6c52-fba0-4194-9c38-a1205aa2ebdf",
        "_kg_hide-output": true,
        "_uuid": "71239f65e413a6a97bb3e995de1ab31818c57679",
        "colab": {
          "base_uri": "https://localhost:8080/"
        },
        "id": "UVzxwqTFHARd",
        "outputId": "e67d8e2e-1747-4441-dd98-87fa5e7aaf4c"
      },
      "outputs": [
        {
          "output_type": "stream",
          "name": "stdout",
          "text": [
            "Number of companies: (422,)\n"
          ]
        }
      ],
      "source": [
        "print(\"Number of companies:\",Fin_DIS.Company.unique().shape)\n",
        "Fin_DIS = Fin_DIS[Fin_DIS.columns.drop(list(Fin_DIS.filter(regex='x80')))] # Since it is a categorical feature with 37 features.\n"
      ]
    },
    {
      "cell_type": "code",
      "execution_count": 20,
      "metadata": {
        "ExecuteTime": {
          "end_time": "2025-01-02T20:37:56.191233Z",
          "start_time": "2025-01-02T20:37:56.174041Z"
        },
        "_cell_guid": "c9446c3d-90b8-49a8-b43b-6171b1143028",
        "_uuid": "2247df4be434dc9966a667fd07f3e6ff97f21bb8",
        "id": "doYofossHARf"
      },
      "outputs": [],
      "source": [
        "# Creating target vector and feature matrix\n",
        "target_variable = Fin_DIS.iloc[:, 2].values\n",
        "for val in range(0, len(target_variable)):  # Converting target variable from continuous to binary form\n",
        "    if target_variable[val] > -0.5:\n",
        "        target_variable[val] = 0\n",
        "    else:\n",
        "        target_variable[val] = 1\n",
        "predictor_variables = Fin_DIS.iloc[:, 3:].values"
      ]
    },
    {
      "cell_type": "code",
      "execution_count": 22,
      "metadata": {
        "ExecuteTime": {
          "end_time": "2025-01-02T20:37:56.210873Z",
          "start_time": "2025-01-02T20:37:56.195063Z"
        },
        "_cell_guid": "3fccd230-a86c-4c03-b42c-ad3e934cc3af",
        "_uuid": "084110bcffe1813bfff26546699fc3cc9bd5c07c",
        "colab": {
          "base_uri": "https://localhost:8080/"
        },
        "id": "h_mbGHOjHARg",
        "outputId": "69c070c6-98ab-4257-cec5-2f941da511c7"
      },
      "outputs": [
        {
          "output_type": "stream",
          "name": "stdout",
          "text": [
            "Number of observations for BANKRUPT companies (1's): 136\n",
            "Number of observations for HEALTHY companies (0's): 3536\n"
          ]
        }
      ],
      "source": [
        "# Counting observations for healthy and bankrupt companies\n",
        "healthy_count = 0\n",
        "for target_val in target_variable:\n",
        "    if target_val == 0:\n",
        "        healthy_count += 1\n",
        "bankrupt_count = len(target_variable) - healthy_count\n",
        "\n",
        "print(\"Number of observations for BANKRUPT companies (1's):\", bankrupt_count)\n",
        "print(\"Number of observations for HEALTHY companies (0's):\", healthy_count)"
      ]
    },
    {
      "cell_type": "code",
      "execution_count": 23,
      "metadata": {
        "ExecuteTime": {
          "end_time": "2025-01-02T20:38:00.006437Z",
          "start_time": "2025-01-02T20:37:56.223616Z"
        },
        "_uuid": "8759054d101604c220bb511d53abfe8827eb1240",
        "id": "gHFGWwOaHARi"
      },
      "outputs": [],
      "source": [
        "from sklearn.model_selection import train_test_split\n",
        "\n",
        "predictor_train, predictor_test, target_train, target_test = train_test_split(\n",
        "    predictor_variables, target_variable, test_size=0.30, random_state=0\n",
        ")\n",
        "predictor_train_original = predictor_train.copy()\n",
        "target_train_original = target_train.copy()"
      ]
    },
    {
      "cell_type": "code",
      "execution_count": 25,
      "metadata": {
        "ExecuteTime": {
          "end_time": "2025-01-02T20:38:00.052964Z",
          "start_time": "2025-01-02T20:38:00.008583Z"
        },
        "_cell_guid": "cb2323e2-e5de-49c0-9987-1ba8b6aa0c7c",
        "_uuid": "532e5f805ce20ec00cc2591f77d4c0818c4e8ea1",
        "id": "y-C3_mA8HARj"
      },
      "outputs": [],
      "source": [
        "# Augmenting data for bankrupt companies (undersampled data)\n",
        "target_train_df = pd.DataFrame(target_train.reshape(-1, 1), columns=['Financial_Distress'])\n",
        "predictor_train_df = pd.DataFrame(predictor_train)\n",
        "training_data = pd.concat([predictor_train_df, target_train_df], axis=1)\n",
        "bankrupt_subset = training_data[training_data.Financial_Distress == 1]\n",
        "\n",
        "bankrupt_features = bankrupt_subset.iloc[:, :-1].values\n",
        "feature_means = np.mean(bankrupt_features, axis=0)\n",
        "feature_stds = np.std(bankrupt_features, axis=0)\n",
        "\n",
        "num_new_samples = 1200\n",
        "synthetic_data = np.zeros(shape=(num_new_samples, bankrupt_features.shape[1]))\n",
        "for i in range(bankrupt_features.shape[1]):\n",
        "    synthetic_data[:, i] = np.random.normal(feature_means[i], feature_stds[i], num_new_samples)\n",
        "\n",
        "synthetic_targets = np.ones(shape=(num_new_samples, 1))  # Labels for synthetic data\n",
        "\n",
        "predictor_augmented = np.vstack((predictor_train, synthetic_data))  # Combine original and synthetic data\n",
        "target_augmented = np.vstack((target_train.reshape(-1, 1), synthetic_targets))"
      ]
    },
    {
      "cell_type": "code",
      "execution_count": 26,
      "metadata": {
        "ExecuteTime": {
          "end_time": "2025-01-02T20:38:00.084637Z",
          "start_time": "2025-01-02T20:38:00.062487Z"
        },
        "_cell_guid": "a3210eef-ab77-49ab-b443-497685f6d58b",
        "_uuid": "21a81eb86736db06ac2f5b9991857f78bb0c976c",
        "id": "eCrMZJa-HARk"
      },
      "outputs": [],
      "source": [
        "# Standardizing features\n",
        "from sklearn.preprocessing import StandardScaler\n",
        "\n",
        "feature_scaler = StandardScaler()\n",
        "predictor_augmented = feature_scaler.fit_transform(predictor_augmented)\n",
        "predictor_test = feature_scaler.transform(predictor_test)"
      ]
    },
    {
      "cell_type": "code",
      "execution_count": 27,
      "metadata": {
        "ExecuteTime": {
          "end_time": "2025-01-02T20:38:01.006738Z",
          "start_time": "2025-01-02T20:38:00.090404Z"
        },
        "_cell_guid": "5e516e3f-b30a-4a5e-8e61-021c3f8e9a0a",
        "_uuid": "9f9b43253b85f1882a186246fcc3754d0c141b43",
        "colab": {
          "base_uri": "https://localhost:8080/",
          "height": 74
        },
        "id": "WIyZIv62HARk",
        "outputId": "a6541be6-cd65-48d5-97eb-7d7ac1d07638"
      },
      "outputs": [
        {
          "output_type": "execute_result",
          "data": {
            "text/plain": [
              "GaussianNB()"
            ],
            "text/html": [
              "<style>#sk-container-id-1 {color: black;background-color: white;}#sk-container-id-1 pre{padding: 0;}#sk-container-id-1 div.sk-toggleable {background-color: white;}#sk-container-id-1 label.sk-toggleable__label {cursor: pointer;display: block;width: 100%;margin-bottom: 0;padding: 0.3em;box-sizing: border-box;text-align: center;}#sk-container-id-1 label.sk-toggleable__label-arrow:before {content: \"▸\";float: left;margin-right: 0.25em;color: #696969;}#sk-container-id-1 label.sk-toggleable__label-arrow:hover:before {color: black;}#sk-container-id-1 div.sk-estimator:hover label.sk-toggleable__label-arrow:before {color: black;}#sk-container-id-1 div.sk-toggleable__content {max-height: 0;max-width: 0;overflow: hidden;text-align: left;background-color: #f0f8ff;}#sk-container-id-1 div.sk-toggleable__content pre {margin: 0.2em;color: black;border-radius: 0.25em;background-color: #f0f8ff;}#sk-container-id-1 input.sk-toggleable__control:checked~div.sk-toggleable__content {max-height: 200px;max-width: 100%;overflow: auto;}#sk-container-id-1 input.sk-toggleable__control:checked~label.sk-toggleable__label-arrow:before {content: \"▾\";}#sk-container-id-1 div.sk-estimator input.sk-toggleable__control:checked~label.sk-toggleable__label {background-color: #d4ebff;}#sk-container-id-1 div.sk-label input.sk-toggleable__control:checked~label.sk-toggleable__label {background-color: #d4ebff;}#sk-container-id-1 input.sk-hidden--visually {border: 0;clip: rect(1px 1px 1px 1px);clip: rect(1px, 1px, 1px, 1px);height: 1px;margin: -1px;overflow: hidden;padding: 0;position: absolute;width: 1px;}#sk-container-id-1 div.sk-estimator {font-family: monospace;background-color: #f0f8ff;border: 1px dotted black;border-radius: 0.25em;box-sizing: border-box;margin-bottom: 0.5em;}#sk-container-id-1 div.sk-estimator:hover {background-color: #d4ebff;}#sk-container-id-1 div.sk-parallel-item::after {content: \"\";width: 100%;border-bottom: 1px solid gray;flex-grow: 1;}#sk-container-id-1 div.sk-label:hover label.sk-toggleable__label {background-color: #d4ebff;}#sk-container-id-1 div.sk-serial::before {content: \"\";position: absolute;border-left: 1px solid gray;box-sizing: border-box;top: 0;bottom: 0;left: 50%;z-index: 0;}#sk-container-id-1 div.sk-serial {display: flex;flex-direction: column;align-items: center;background-color: white;padding-right: 0.2em;padding-left: 0.2em;position: relative;}#sk-container-id-1 div.sk-item {position: relative;z-index: 1;}#sk-container-id-1 div.sk-parallel {display: flex;align-items: stretch;justify-content: center;background-color: white;position: relative;}#sk-container-id-1 div.sk-item::before, #sk-container-id-1 div.sk-parallel-item::before {content: \"\";position: absolute;border-left: 1px solid gray;box-sizing: border-box;top: 0;bottom: 0;left: 50%;z-index: -1;}#sk-container-id-1 div.sk-parallel-item {display: flex;flex-direction: column;z-index: 1;position: relative;background-color: white;}#sk-container-id-1 div.sk-parallel-item:first-child::after {align-self: flex-end;width: 50%;}#sk-container-id-1 div.sk-parallel-item:last-child::after {align-self: flex-start;width: 50%;}#sk-container-id-1 div.sk-parallel-item:only-child::after {width: 0;}#sk-container-id-1 div.sk-dashed-wrapped {border: 1px dashed gray;margin: 0 0.4em 0.5em 0.4em;box-sizing: border-box;padding-bottom: 0.4em;background-color: white;}#sk-container-id-1 div.sk-label label {font-family: monospace;font-weight: bold;display: inline-block;line-height: 1.2em;}#sk-container-id-1 div.sk-label-container {text-align: center;}#sk-container-id-1 div.sk-container {/* jupyter's `normalize.less` sets `[hidden] { display: none; }` but bootstrap.min.css set `[hidden] { display: none !important; }` so we also need the `!important` here to be able to override the default hidden behavior on the sphinx rendered scikit-learn.org. See: https://github.com/scikit-learn/scikit-learn/issues/21755 */display: inline-block !important;position: relative;}#sk-container-id-1 div.sk-text-repr-fallback {display: none;}</style><div id=\"sk-container-id-1\" class=\"sk-top-container\"><div class=\"sk-text-repr-fallback\"><pre>GaussianNB()</pre><b>In a Jupyter environment, please rerun this cell to show the HTML representation or trust the notebook. <br />On GitHub, the HTML representation is unable to render, please try loading this page with nbviewer.org.</b></div><div class=\"sk-container\" hidden><div class=\"sk-item\"><div class=\"sk-estimator sk-toggleable\"><input class=\"sk-toggleable__control sk-hidden--visually\" id=\"sk-estimator-id-1\" type=\"checkbox\" checked><label for=\"sk-estimator-id-1\" class=\"sk-toggleable__label sk-toggleable__label-arrow\">GaussianNB</label><div class=\"sk-toggleable__content\"><pre>GaussianNB()</pre></div></div></div></div></div>"
            ]
          },
          "metadata": {},
          "execution_count": 27
        }
      ],
      "source": [
        "# Model Training\n",
        "\n",
        "# XGBoost Classifier\n",
        "from xgboost import XGBClassifier\n",
        "xgb_model = XGBClassifier()\n",
        "xgb_model.fit(predictor_augmented, target_augmented.ravel())\n",
        "\n",
        "# Random Forest Classifier\n",
        "from sklearn.ensemble import RandomForestClassifier\n",
        "rf_model = RandomForestClassifier(n_estimators=5, criterion='entropy')\n",
        "rf_model.fit(predictor_augmented, target_augmented.ravel())\n",
        "\n",
        "# Decision Tree Classifier\n",
        "from sklearn.tree import DecisionTreeClassifier\n",
        "dt_model = DecisionTreeClassifier()\n",
        "dt_model.fit(predictor_augmented, target_augmented.ravel())\n",
        "\n",
        "# Naive Bayes Classifier\n",
        "from sklearn.naive_bayes import GaussianNB\n",
        "nb_model = GaussianNB()\n",
        "nb_model.fit(predictor_augmented, target_augmented.ravel())"
      ]
    },
    {
      "cell_type": "code",
      "execution_count": 28,
      "metadata": {
        "ExecuteTime": {
          "end_time": "2025-01-02T20:38:01.026812Z",
          "start_time": "2025-01-02T20:38:01.022491Z"
        },
        "_cell_guid": "b515f6a5-4c6f-4ed1-a1fa-e22cbee9e803",
        "_uuid": "072f3870b2f54986c4ca345453dd3fa0adbad86c",
        "id": "UhVe7H1kHARl",
        "colab": {
          "base_uri": "https://localhost:8080/"
        },
        "outputId": "9497f486-9d71-4d36-a70c-4f6808945039"
      },
      "outputs": [
        {
          "output_type": "stream",
          "name": "stdout",
          "text": [
            "\n",
            "Accuracy for XGBoost: 95.92%\n",
            "\n",
            "Accuracy for Random Forest: 96.55%\n",
            "\n",
            "Accuracy for Decision Tree: 94.28%\n",
            "\n",
            "Accuracy for Naive Bayes: 31.85%\n"
          ]
        }
      ],
      "source": [
        "# Model Evaluation\n",
        "\n",
        "from sklearn.metrics import confusion_matrix\n",
        "\n",
        "# Predictions and Accuracy for each model\n",
        "model_predictions = {\n",
        "    \"XGBoost\": xgb_model.predict(predictor_test),\n",
        "    \"Random Forest\": rf_model.predict(predictor_test),\n",
        "    \"Decision Tree\": dt_model.predict(predictor_test),\n",
        "    \"Naive Bayes\": nb_model.predict(predictor_test)\n",
        "}\n",
        "\n",
        "model_accuracies = {}\n",
        "for model_name, predictions in model_predictions.items():\n",
        "    cm = confusion_matrix(target_test, predictions)\n",
        "    accuracy = (cm[0, 0] + cm[1, 1]) / len(target_test)\n",
        "    model_accuracies[model_name] = accuracy\n",
        "    print(f\"\\nAccuracy for {model_name}: {accuracy * 100:.2f}%\")"
      ]
    },
    {
      "cell_type": "markdown",
      "metadata": {
        "_cell_guid": "ec1fb258-8062-4753-a62d-55c7397a99aa",
        "_uuid": "4edb1db03ad3ddb2c300f56538354c22428062b3",
        "id": "gp9a4K87HARl"
      },
      "source": [
        "\n"
      ]
    },
    {
      "cell_type": "code",
      "execution_count": 29,
      "metadata": {
        "ExecuteTime": {
          "end_time": "2025-01-02T20:38:01.042327Z",
          "start_time": "2025-01-02T20:38:01.041166Z"
        },
        "_cell_guid": "db2bdc9f-81b5-47d3-8091-4d53109bd84c",
        "_uuid": "eee0243b30f097e2e442a721eecf6268a91406f2",
        "colab": {
          "base_uri": "https://localhost:8080/"
        },
        "id": "ZDwlxBOnHARl",
        "outputId": "59731d16-7c3b-4caa-9625-f6807405b09b"
      },
      "outputs": [
        {
          "output_type": "stream",
          "name": "stdout",
          "text": [
            "\n",
            "Metrics for XGBoost:\n",
            "Precision: [0.97299814 0.42857143]\n",
            "Recall: [0.98491989 0.29268293]\n",
            "F-Score: [0.97892272 0.34782609]\n",
            "Accuracy: 95.92%\n",
            "\n",
            "Metrics for Random Forest:\n",
            "Precision: [0.97493036 0.56      ]\n",
            "Recall: [0.98963242 0.34146341]\n",
            "F-Score: [0.98222638 0.42424242]\n",
            "Accuracy: 96.55%\n",
            "\n",
            "Metrics for Decision Tree:\n",
            "Precision: [0.9743346 0.28     ]\n",
            "Recall: [0.96606975 0.34146341]\n",
            "F-Score: [0.97018457 0.30769231]\n",
            "Accuracy: 94.28%\n",
            "\n",
            "Metrics for Naive Bayes:\n",
            "Precision: [0.99050633 0.04834606]\n",
            "Recall: [0.29500471 0.92682927]\n",
            "F-Score: [0.45461147 0.09189843]\n",
            "Accuracy: 31.85%\n"
          ]
        }
      ],
      "source": [
        "# Calculate and print precision, recall, F-score, and support for each model\n",
        "from sklearn.metrics import precision_recall_fscore_support\n",
        "\n",
        "for model_name, predictions in model_predictions.items():\n",
        "    precision, recall, f_score, _ = precision_recall_fscore_support(target_test, predictions, average=None)\n",
        "\n",
        "    print(f\"\\nMetrics for {model_name}:\")\n",
        "    print(\"Precision:\", precision)\n",
        "    print(\"Recall:\", recall)\n",
        "    print(\"F-Score:\", f_score)\n",
        "    print(f\"Accuracy: {model_accuracies[model_name] * 100:.2f}%\")"
      ]
    },
    {
      "cell_type": "code",
      "execution_count": 31,
      "metadata": {
        "_cell_guid": "6673c31e-e9d4-49d8-9126-a388b257238a",
        "_uuid": "a678f58a02df58ac61bc1dbb6ca3c5db06b1ec4d",
        "colab": {
          "base_uri": "https://localhost:8080/",
          "height": 517
        },
        "id": "5GmXwD2SHARm",
        "outputId": "7be7615f-6e00-4d6c-d8f5-37205bf079c0"
      },
      "outputs": [
        {
          "output_type": "display_data",
          "data": {
            "text/plain": [
              "<Figure size 800x600 with 1 Axes>"
            ],
            "image/png": "[encoded data removed]"
          },
          "metadata": {}
        }
      ],
      "source": [
        "# Comparing Model Accuracies\n",
        "\n",
        "import matplotlib.pyplot as plt\n",
        "import numpy as np\n",
        "\n",
        "model_names = [\"XGBoost\", \"Random Forest\", \"Decision Tree\", \"Naive Bayes\"]\n",
        "accuracies = [model_accuracies[name] for name in model_names]\n",
        "\n",
        "plt.figure(figsize=(8, 6))  # Adjust figure size if needed\n",
        "plt.scatter(model_names, accuracies, color='g', marker='D', linewidths=3)\n",
        "\n",
        "for i, accuracy in enumerate(accuracies):\n",
        "    plt.annotate(f\"{accuracy:.3f}\", (model_names[i], accuracy), ha='center', va='bottom')\n",
        "\n",
        "plt.xlabel(\"Models\")\n",
        "plt.ylabel(\"Accuracy\")\n",
        "plt.title(\"Comparison of Model Accuracies\")\n",
        "plt.xticks(rotation=45, ha='right')  # Rotate x-axis labels for better readability\n",
        "plt.tight_layout()  # Adjust layout to prevent labels from overlapping\n",
        "plt.show()"
      ]
    },
    {
      "cell_type": "code",
      "execution_count": 32,
      "metadata": {
        "ExecuteTime": {
          "end_time": "2025-01-02T20:38:01.052034Z",
          "start_time": "2025-01-02T20:38:01.049508Z"
        },
        "_cell_guid": "ee3684e4-99ec-49e8-990a-1eae3b06b66b",
        "_uuid": "e72de3f7e0c49543ae7b80d76c306193864dc26c",
        "colab": {
          "base_uri": "https://localhost:8080/",
          "height": 517
        },
        "id": "8PYKzy0jHARm",
        "outputId": "9f29d476-9946-48d4-9662-93cc9609aee4"
      },
      "outputs": [
        {
          "output_type": "display_data",
          "data": {
            "text/plain": [
              "<Figure size 800x600 with 1 Axes>"
            ],
            "image/png": "[encoded data removed]"
          },
          "metadata": {}
        }
      ],
      "source": [
        "# Comparing Model F-Scores\n",
        "\n",
        "import matplotlib.pyplot as plt\n",
        "import numpy as np\n",
        "\n",
        "model_names = [\"XGBoost\", \"Random Forest\", \"Decision Tree\", \"Naive Bayes\"]\n",
        "f_scores = []\n",
        "\n",
        "for model_name, predictions in model_predictions.items():\n",
        "    _, _, f_score, _ = precision_recall_fscore_support(target_test, predictions, average=None)\n",
        "    f_scores.append(f_score[1])  # Assuming you want F-score for class 1\n",
        "\n",
        "plt.figure(figsize=(8, 6))\n",
        "plt.scatter(model_names, f_scores, marker='D', color='b', linewidths=3)\n",
        "\n",
        "for i, f_score in enumerate(f_scores):\n",
        "    plt.annotate(f\"{f_score:.3f}\", (model_names[i], f_score), ha='center', va='bottom')\n",
        "\n",
        "plt.xlabel(\"Models\")\n",
        "plt.ylabel(\"F-Score (Class 1)\")\n",
        "plt.title(\"Comparison of Model F-Scores\")\n",
        "plt.xticks(rotation=45, ha='right')  # Rotate x-axis labels for better readability\n",
        "plt.tight_layout()  # Adjust layout to prevent labels from overlapping\n",
        "plt.show()"
      ]
    },
    {
      "cell_type": "code",
      "execution_count": null,
      "metadata": {
        "ExecuteTime": {
          "end_time": "2025-01-02T20:38:01.057193Z",
          "start_time": "2025-01-02T20:38:01.056189Z"
        },
        "_cell_guid": "07742935-dfb6-4197-a1a9-a7840849a47c",
        "_kg_hide-output": true,
        "_uuid": "f36cd0b61263cfb5d33837d4f10b3fa4a75b23b8",
        "id": "1iVZJXsIHARm"
      },
      "outputs": [],
      "source": []
    },
    {
      "cell_type": "code",
      "execution_count": 44,
      "metadata": {
        "ExecuteTime": {
          "end_time": "2025-01-02T20:38:01.058947Z",
          "start_time": "2025-01-02T20:38:01.058664Z"
        },
        "_cell_guid": "b11a7b16-dd04-48e9-b5df-499a004123ad",
        "_uuid": "52acc2399622c13d7c3a6db31915b1515d680b6f",
        "colab": {
          "base_uri": "https://localhost:8080/",
          "height": 517
        },
        "id": "YDoAgzQtHARn",
        "outputId": "b23489cf-35ee-4bad-ada4-b0633a06cd37"
      },
      "outputs": [
        {
          "output_type": "display_data",
          "data": {
            "text/plain": [
              "<Figure size 800x600 with 1 Axes>"
            ],
            "image/png": "[encoded data removed]"
          },
          "metadata": {}
        }
      ],
      "source": [
        "import matplotlib.pyplot as plt\n",
        "from sklearn.metrics import roc_curve, auc\n",
        "from numpy import interp\n",
        "\n",
        "plt.figure(figsize=(8, 6))\n",
        "\n",
        "# Store trained models in a dictionary\n",
        "trained_models = {\n",
        "    \"XGBoost\": xgb_model,\n",
        "    \"Random Forest\": rf_model,\n",
        "    \"Decision Tree\": dt_model,\n",
        "    \"Naive Bayes\": nb_model\n",
        "}\n",
        "\n",
        "# Define colors for each model\n",
        "model_colors = {\n",
        "    \"XGBoost\": \"blue\",\n",
        "    \"Random Forest\": \"green\",\n",
        "    \"Decision Tree\": \"orange\",\n",
        "    \"Naive Bayes\": \"purple\"\n",
        "}\n",
        "\n",
        "for model_name in model_names:\n",
        "    model = trained_models[model_name]\n",
        "    probabilities = model.predict_proba(predictor_test)[:, 1]\n",
        "    fpr, tpr, _ = roc_curve(target_test, probabilities)\n",
        "    roc_auc = auc(fpr, tpr)\n",
        "\n",
        "    # Use the color defined in model_colors\n",
        "    plt.plot(fpr, tpr, lw=2, alpha=0.8, color=model_colors[model_name],\n",
        "             label=f\"{model_name} (AUC = {roc_auc:.2f})\")\n",
        "\n",
        "plt.plot([0, 1], [0, 1], linestyle='--', lw=2, color='r', label='Random Guess', alpha=.8)\n",
        "plt.xlabel(\"False Positive Rate\")\n",
        "plt.ylabel(\"True Positive Rate\")\n",
        "plt.title(\"Receiver Operating Characteristic (ROC) Curve\")\n",
        "plt.legend(loc=\"lower right\")\n",
        "plt.tight_layout()\n",
        "plt.show()"
      ]
    },
    {
      "cell_type": "markdown",
      "metadata": {
        "_uuid": "83ee071f95b72febba1a2b58ba5857a7b08dc46b",
        "id": "eU903N2VHARn"
      },
      "source": [
        "# Applying sampling techniques\n",
        "\n"
      ]
    },
    {
      "cell_type": "code",
      "execution_count": 45,
      "metadata": {
        "ExecuteTime": {
          "end_time": "2025-01-02T20:38:01.063344Z",
          "start_time": "2025-01-02T20:38:01.061302Z"
        },
        "_cell_guid": "583436af-8a8b-41af-9fa9-17bc86cf5ca9",
        "_uuid": "c73b67bab15ad0b03e48241d62ae382c8d5824ac",
        "colab": {
          "base_uri": "https://localhost:8080/"
        },
        "id": "o8pjWDXeHARn",
        "outputId": "2331bcba-c0d4-47b1-a159-eb552bef667c"
      },
      "outputs": [
        {
          "output_type": "stream",
          "name": "stdout",
          "text": [
            "Class distribution after Random Oversampling: [(0.0, 2475), (1.0, 2475)]\n",
            "Class distribution after SMOTE: [(0.0, 2475), (1.0, 2475)]\n",
            "Class distribution after ADASYN: [(0.0, 2475), (1.0, 2483)]\n"
          ]
        }
      ],
      "source": [
        "# Exploring Oversampling Techniques\n",
        "\n",
        "from imblearn.over_sampling import RandomOverSampler, SMOTE, ADASYN\n",
        "from collections import Counter\n",
        "\n",
        "# Applying Random Oversampling\n",
        "random_oversampler = RandomOverSampler(random_state=0)\n",
        "predictor_ros, target_ros = random_oversampler.fit_resample(predictor_train, target_train)\n",
        "print(\"Class distribution after Random Oversampling:\", sorted(Counter(target_ros).items()))\n",
        "\n",
        "# Applying SMOTE\n",
        "smote_oversampler = SMOTE()\n",
        "predictor_smote, target_smote = smote_oversampler.fit_resample(predictor_train, target_train)\n",
        "print(\"Class distribution after SMOTE:\", sorted(Counter(target_smote).items()))\n",
        "\n",
        "# Applying ADASYN\n",
        "adasyn_oversampler = ADASYN()\n",
        "predictor_adasyn, target_adasyn = adasyn_oversampler.fit_resample(predictor_train, target_train)\n",
        "print(\"Class distribution after ADASYN:\", sorted(Counter(target_adasyn).items()))"
      ]
    },
    {
      "cell_type": "code",
      "execution_count": 36,
      "metadata": {
        "ExecuteTime": {
          "end_time": "2025-01-02T20:38:01.068831Z",
          "start_time": "2025-01-02T20:38:01.065584Z"
        },
        "_cell_guid": "f78f9c6e-bacd-4a20-8a87-cbcd2ecc7497",
        "_uuid": "c610fc7c0d72302b06057d968e927424e9520004",
        "id": "C1ZqfszNHARo"
      },
      "outputs": [],
      "source": [
        "# Standardizing Features after Oversampling\n",
        "\n",
        "# Standardize features for Random Oversampling\n",
        "predictor_ros = feature_scaler.fit_transform(predictor_ros)\n",
        "\n",
        "# Standardize features for SMOTE\n",
        "predictor_smote = feature_scaler.fit_transform(predictor_smote)\n",
        "\n",
        "# Standardize features for ADASYN\n",
        "predictor_adasyn = feature_scaler.fit_transform(predictor_adasyn)\n",
        "\n",
        "# Standardize original training features (without oversampling)\n",
        "predictor_train_original = feature_scaler.fit_transform(predictor_train_original)"
      ]
    },
    {
      "cell_type": "code",
      "execution_count": 37,
      "metadata": {
        "ExecuteTime": {
          "end_time": "2025-01-02T20:38:01.071035Z",
          "start_time": "2025-01-02T20:38:01.071035Z"
        },
        "_cell_guid": "73389563-83c9-4448-aad8-8b3124a1e3c9",
        "_uuid": "8045a78a599350991ff0bd89778e261d438ac9e1",
        "colab": {
          "base_uri": "https://localhost:8080/",
          "height": 248
        },
        "id": "iF8nVuDjHARo",
        "outputId": "73b4139b-cd20-4014-dd8f-69079ffb3282"
      },
      "outputs": [
        {
          "output_type": "execute_result",
          "data": {
            "text/plain": [
              "XGBClassifier(base_score=None, booster=None, callbacks=None,\n",
              "              colsample_bylevel=None, colsample_bynode=None,\n",
              "              colsample_bytree=None, device=None, early_stopping_rounds=None,\n",
              "              enable_categorical=False, eval_metric=None, feature_types=None,\n",
              "              gamma=None, grow_policy=None, importance_type=None,\n",
              "              interaction_constraints=None, learning_rate=None, max_bin=None,\n",
              "              max_cat_threshold=None, max_cat_to_onehot=None,\n",
              "              max_delta_step=None, max_depth=None, max_leaves=None,\n",
              "              min_child_weight=None, missing=nan, monotone_constraints=None,\n",
              "              multi_strategy=None, n_estimators=None, n_jobs=None,\n",
              "              num_parallel_tree=None, random_state=None, ...)"
            ],
            "text/html": [
              "<style>#sk-container-id-2 {color: black;background-color: white;}#sk-container-id-2 pre{padding: 0;}#sk-container-id-2 div.sk-toggleable {background-color: white;}#sk-container-id-2 label.sk-toggleable__label {cursor: pointer;display: block;width: 100%;margin-bottom: 0;padding: 0.3em;box-sizing: border-box;text-align: center;}#sk-container-id-2 label.sk-toggleable__label-arrow:before {content: \"▸\";float: left;margin-right: 0.25em;color: #696969;}#sk-container-id-2 label.sk-toggleable__label-arrow:hover:before {color: black;}#sk-container-id-2 div.sk-estimator:hover label.sk-toggleable__label-arrow:before {color: black;}#sk-container-id-2 div.sk-toggleable__content {max-height: 0;max-width: 0;overflow: hidden;text-align: left;background-color: #f0f8ff;}#sk-container-id-2 div.sk-toggleable__content pre {margin: 0.2em;color: black;border-radius: 0.25em;background-color: #f0f8ff;}#sk-container-id-2 input.sk-toggleable__control:checked~div.sk-toggleable__content {max-height: 200px;max-width: 100%;overflow: auto;}#sk-container-id-2 input.sk-toggleable__control:checked~label.sk-toggleable__label-arrow:before {content: \"▾\";}#sk-container-id-2 div.sk-estimator input.sk-toggleable__control:checked~label.sk-toggleable__label {background-color: #d4ebff;}#sk-container-id-2 div.sk-label input.sk-toggleable__control:checked~label.sk-toggleable__label {background-color: #d4ebff;}#sk-container-id-2 input.sk-hidden--visually {border: 0;clip: rect(1px 1px 1px 1px);clip: rect(1px, 1px, 1px, 1px);height: 1px;margin: -1px;overflow: hidden;padding: 0;position: absolute;width: 1px;}#sk-container-id-2 div.sk-estimator {font-family: monospace;background-color: #f0f8ff;border: 1px dotted black;border-radius: 0.25em;box-sizing: border-box;margin-bottom: 0.5em;}#sk-container-id-2 div.sk-estimator:hover {background-color: #d4ebff;}#sk-container-id-2 div.sk-parallel-item::after {content: \"\";width: 100%;border-bottom: 1px solid gray;flex-grow: 1;}#sk-container-id-2 div.sk-label:hover label.sk-toggleable__label {background-color: #d4ebff;}#sk-container-id-2 div.sk-serial::before {content: \"\";position: absolute;border-left: 1px solid gray;box-sizing: border-box;top: 0;bottom: 0;left: 50%;z-index: 0;}#sk-container-id-2 div.sk-serial {display: flex;flex-direction: column;align-items: center;background-color: white;padding-right: 0.2em;padding-left: 0.2em;position: relative;}#sk-container-id-2 div.sk-item {position: relative;z-index: 1;}#sk-container-id-2 div.sk-parallel {display: flex;align-items: stretch;justify-content: center;background-color: white;position: relative;}#sk-container-id-2 div.sk-item::before, #sk-container-id-2 div.sk-parallel-item::before {content: \"\";position: absolute;border-left: 1px solid gray;box-sizing: border-box;top: 0;bottom: 0;left: 50%;z-index: -1;}#sk-container-id-2 div.sk-parallel-item {display: flex;flex-direction: column;z-index: 1;position: relative;background-color: white;}#sk-container-id-2 div.sk-parallel-item:first-child::after {align-self: flex-end;width: 50%;}#sk-container-id-2 div.sk-parallel-item:last-child::after {align-self: flex-start;width: 50%;}#sk-container-id-2 div.sk-parallel-item:only-child::after {width: 0;}#sk-container-id-2 div.sk-dashed-wrapped {border: 1px dashed gray;margin: 0 0.4em 0.5em 0.4em;box-sizing: border-box;padding-bottom: 0.4em;background-color: white;}#sk-container-id-2 div.sk-label label {font-family: monospace;font-weight: bold;display: inline-block;line-height: 1.2em;}#sk-container-id-2 div.sk-label-container {text-align: center;}#sk-container-id-2 div.sk-container {/* jupyter's `normalize.less` sets `[hidden] { display: none; }` but bootstrap.min.css set `[hidden] { display: none !important; }` so we also need the `!important` here to be able to override the default hidden behavior on the sphinx rendered scikit-learn.org. See: https://github.com/scikit-learn/scikit-learn/issues/21755 */display: inline-block !important;position: relative;}#sk-container-id-2 div.sk-text-repr-fallback {display: none;}</style><div id=\"sk-container-id-2\" class=\"sk-top-container\"><div class=\"sk-text-repr-fallback\"><pre>XGBClassifier(base_score=None, booster=None, callbacks=None,\n",
              "              colsample_bylevel=None, colsample_bynode=None,\n",
              "              colsample_bytree=None, device=None, early_stopping_rounds=None,\n",
              "              enable_categorical=False, eval_metric=None, feature_types=None,\n",
              "              gamma=None, grow_policy=None, importance_type=None,\n",
              "              interaction_constraints=None, learning_rate=None, max_bin=None,\n",
              "              max_cat_threshold=None, max_cat_to_onehot=None,\n",
              "              max_delta_step=None, max_depth=None, max_leaves=None,\n",
              "              min_child_weight=None, missing=nan, monotone_constraints=None,\n",
              "              multi_strategy=None, n_estimators=None, n_jobs=None,\n",
              "              num_parallel_tree=None, random_state=None, ...)</pre><b>In a Jupyter environment, please rerun this cell to show the HTML representation or trust the notebook. <br />On GitHub, the HTML representation is unable to render, please try loading this page with nbviewer.org.</b></div><div class=\"sk-container\" hidden><div class=\"sk-item\"><div class=\"sk-estimator sk-toggleable\"><input class=\"sk-toggleable__control sk-hidden--visually\" id=\"sk-estimator-id-2\" type=\"checkbox\" checked><label for=\"sk-estimator-id-2\" class=\"sk-toggleable__label sk-toggleable__label-arrow\">XGBClassifier</label><div class=\"sk-toggleable__content\"><pre>XGBClassifier(base_score=None, booster=None, callbacks=None,\n",
              "              colsample_bylevel=None, colsample_bynode=None,\n",
              "              colsample_bytree=None, device=None, early_stopping_rounds=None,\n",
              "              enable_categorical=False, eval_metric=None, feature_types=None,\n",
              "              gamma=None, grow_policy=None, importance_type=None,\n",
              "              interaction_constraints=None, learning_rate=None, max_bin=None,\n",
              "              max_cat_threshold=None, max_cat_to_onehot=None,\n",
              "              max_delta_step=None, max_depth=None, max_leaves=None,\n",
              "              min_child_weight=None, missing=nan, monotone_constraints=None,\n",
              "              multi_strategy=None, n_estimators=None, n_jobs=None,\n",
              "              num_parallel_tree=None, random_state=None, ...)</pre></div></div></div></div></div>"
            ]
          },
          "metadata": {},
          "execution_count": 37
        }
      ],
      "source": [
        "# Training XGBoost with Different Sampling Techniques\n",
        "\n",
        "from xgboost import XGBClassifier\n",
        "\n",
        "# XGBoost with Random Oversampling\n",
        "xgb_ros_model = XGBClassifier()\n",
        "xgb_ros_model.fit(predictor_ros, target_ros)\n",
        "\n",
        "# XGBoost with SMOTE\n",
        "xgb_smote_model = XGBClassifier()\n",
        "xgb_smote_model.fit(predictor_smote, target_smote)\n",
        "\n",
        "# XGBoost with ADASYN\n",
        "xgb_adasyn_model = XGBClassifier()\n",
        "xgb_adasyn_model.fit(predictor_adasyn, target_adasyn)\n",
        "\n",
        "# XGBoost without Oversampling\n",
        "xgb_original_model = XGBClassifier()\n",
        "xgb_original_model.fit(predictor_train_original, target_train_original)"
      ]
    },
    {
      "cell_type": "code",
      "execution_count": 38,
      "metadata": {
        "ExecuteTime": {
          "end_time": "2025-01-02T20:38:01.073139Z",
          "start_time": "2025-01-02T20:38:01.072135Z"
        },
        "_cell_guid": "4c747def-b53b-4441-9392-68b40772a3be",
        "_uuid": "133d0e045f76ed79354d0d8b43371fee99871e31",
        "collapsed": true,
        "jupyter": {
          "outputs_hidden": true
        },
        "id": "aLS0GNWOHARo"
      },
      "outputs": [],
      "source": [
        "# Making Predictions with Different Models\n",
        "\n",
        "# Predictions using Random Oversampling\n",
        "predictions_ros = xgb_ros_model.predict(predictor_test)\n",
        "\n",
        "# Predictions using SMOTE\n",
        "predictions_smote = xgb_smote_model.predict(predictor_test)\n",
        "\n",
        "# Predictions using ADASYN\n",
        "predictions_adasyn = xgb_adasyn_model.predict(predictor_test)\n",
        "\n",
        "# Predictions without Oversampling\n",
        "predictions_original = xgb_original_model.predict(predictor_test)"
      ]
    },
    {
      "cell_type": "code",
      "execution_count": 39,
      "metadata": {
        "ExecuteTime": {
          "start_time": "2025-01-02T20:38:01.075225Z"
        },
        "_cell_guid": "8cc6f2b0-1147-415d-a21f-71bb1db8444b",
        "_uuid": "1252682efe5cc8f0f76fa0223d7c4839fbe2ba4e",
        "collapsed": true,
        "jupyter": {
          "outputs_hidden": true
        },
        "id": "TQyjEXF8HARo",
        "colab": {
          "base_uri": "https://localhost:8080/"
        },
        "outputId": "0686dc26-b920-4ef3-ca08-9e5cfb5ca77f"
      },
      "outputs": [
        {
          "output_type": "stream",
          "name": "stdout",
          "text": [
            "\n",
            "Accuracy for XGBoost with Random Oversampling: 88.38%\n",
            "\n",
            "Accuracy for XGBoost with SMOTE: 94.46%\n",
            "\n",
            "Accuracy for XGBoost with ADASYN: 89.93%\n",
            "\n",
            "Accuracy for XGBoost with No Oversampling: 96.28%\n"
          ]
        }
      ],
      "source": [
        "# Evaluating Model Performance\n",
        "\n",
        "from sklearn.metrics import confusion_matrix\n",
        "\n",
        "# Calculate confusion matrices and accuracies\n",
        "model_results = {\n",
        "    \"Random Oversampling\": (confusion_matrix(target_test, predictions_ros), predictions_ros),\n",
        "    \"SMOTE\": (confusion_matrix(target_test, predictions_smote), predictions_smote),\n",
        "    \"ADASYN\": (confusion_matrix(target_test, predictions_adasyn), predictions_adasyn),\n",
        "    \"No Oversampling\": (confusion_matrix(target_test, predictions_original), predictions_original)\n",
        "}\n",
        "\n",
        "accuracies = {}\n",
        "for sampling_method, (cm, _) in model_results.items():\n",
        "    accuracy = (cm[0, 0] + cm[1, 1]) / len(target_test)\n",
        "    accuracies[sampling_method] = accuracy\n",
        "    print(f\"\\nAccuracy for XGBoost with {sampling_method}: {accuracy * 100:.2f}%\")"
      ]
    },
    {
      "cell_type": "code",
      "execution_count": 40,
      "metadata": {
        "_cell_guid": "5f5ea64b-fcf6-499b-b37b-87d0800ccd6e",
        "_uuid": "7aa7166e7acf71550019d40d60243f443706a403",
        "colab": {
          "base_uri": "https://localhost:8080/"
        },
        "id": "BCwSyaeDHARo",
        "outputId": "a197ead7-59e6-4658-e65b-d0c28b0beeff"
      },
      "outputs": [
        {
          "output_type": "stream",
          "name": "stdout",
          "text": [
            "\n",
            "Metrics for XGBoost with Random Oversampling:\n",
            "Precision: [0.98442368 0.18705036]\n",
            "Recall: [0.8934967  0.63414634]\n",
            "F-Score: [0.93675889 0.28888889]\n",
            "Accuracy: 88.38%\n",
            "\n",
            "Metrics for XGBoost with SMOTE:\n",
            "Precision: [0.96554935 0.14285714]\n",
            "Recall: [0.97737983 0.09756098]\n",
            "F-Score: [0.97142857 0.11594203]\n",
            "Accuracy: 94.46%\n",
            "\n",
            "Metrics for XGBoost with ADASYN:\n",
            "Precision: [0.97690763 0.16981132]\n",
            "Recall: [0.91705938 0.43902439]\n",
            "F-Score: [0.94603792 0.24489796]\n",
            "Accuracy: 89.93%\n",
            "\n",
            "Metrics for XGBoost with No Oversampling:\n",
            "Precision: [0.96279492 0.        ]\n",
            "Recall: [1. 0.]\n",
            "F-Score: [0.98104485 0.        ]\n",
            "Accuracy: 96.28%\n"
          ]
        },
        {
          "output_type": "stream",
          "name": "stderr",
          "text": [
            "/usr/local/lib/python3.10/dist-packages/sklearn/metrics/_classification.py:1344: UndefinedMetricWarning: Precision and F-score are ill-defined and being set to 0.0 in labels with no predicted samples. Use `zero_division` parameter to control this behavior.\n",
            "  _warn_prf(average, modifier, msg_start, len(result))\n"
          ]
        }
      ],
      "source": [
        "# Calculating Precision, Recall, and F-score\n",
        "\n",
        "from sklearn.metrics import precision_recall_fscore_support\n",
        "\n",
        "# Calculate and print metrics for each sampling method\n",
        "for sampling_method, (_, predictions) in model_results.items():  # Access predictions from model_results\n",
        "    precision, recall, f_score, _ = precision_recall_fscore_support(target_test, predictions, average=None)\n",
        "\n",
        "    print(f\"\\nMetrics for XGBoost with {sampling_method}:\")\n",
        "    print(\"Precision:\", precision)\n",
        "    print(\"Recall:\", recall)\n",
        "    print(\"F-Score:\", f_score)\n",
        "    print(f\"Accuracy: {accuracies[sampling_method] * 100:.2f}%\")"
      ]
    },
    {
      "cell_type": "code",
      "execution_count": 43,
      "metadata": {
        "ExecuteTime": {
          "start_time": "2025-01-02T20:38:01.078412Z"
        },
        "_cell_guid": "83583f68-2756-426e-b764-3e03fadd5c0f",
        "_uuid": "60c7950495229147d981bb6d437a4e587e26501e",
        "colab": {
          "base_uri": "https://localhost:8080/",
          "height": 574
        },
        "id": "3oIjtt69HARp",
        "outputId": "8fc7458f-9d8c-49b4-b5e5-cd60c1ea259d"
      },
      "outputs": [
        {
          "output_type": "stream",
          "name": "stderr",
          "text": [
            "/usr/local/lib/python3.10/dist-packages/sklearn/metrics/_classification.py:1344: UndefinedMetricWarning: Precision and F-score are ill-defined and being set to 0.0 in labels with no predicted samples. Use `zero_division` parameter to control this behavior.\n",
            "  _warn_prf(average, modifier, msg_start, len(result))\n"
          ]
        },
        {
          "output_type": "display_data",
          "data": {
            "text/plain": [
              "<Figure size 800x600 with 1 Axes>"
            ],
            "image/png": "[encoded data removed]"
          },
          "metadata": {}
        }
      ],
      "source": [
        "# Comparing F-scores for Different Sampling Techniques\n",
        "\n",
        "import matplotlib.pyplot as plt\n",
        "import numpy as np\n",
        "from sklearn.metrics import precision_recall_fscore_support\n",
        "\n",
        "# Assuming 'model_predictions' from cell ipython-input-27-618582f94959 contains the predictions for the initial XGBoost model\n",
        "# If the variable name is different, adjust it accordingly\n",
        "_, _, f_score_xgb, _ = precision_recall_fscore_support(target_test, model_predictions['XGBoost'], average=None)\n",
        "\n",
        "\n",
        "sampling_methods = [\"Random Oversampling\", \"SMOTE\", \"ADASYN\", \"No Oversampling\", \"Custom Sampling\"]  # Add \"Custom Sampling\"\n",
        "f_scores = [\n",
        "    precision_recall_fscore_support(target_test, predictions, average=None)[2][1]  # Get F-score for class 1\n",
        "    for _, predictions in model_results.values()\n",
        "]\n",
        "\n",
        "# Append the F-score for the initial XGBoost model (class 1)\n",
        "f_scores.append(f_score_xgb[1])\n",
        "\n",
        "plt.figure(figsize=(8, 6))\n",
        "plt.scatter(sampling_methods, f_scores, marker='D', color='r', linewidths=3)\n",
        "\n",
        "for i, f_score in enumerate(f_scores):\n",
        "    plt.annotate(f\"{f_score:.3f}\", (sampling_methods[i], f_score), ha='center', va='bottom')\n",
        "\n",
        "plt.xlabel(\"Sampling Techniques\")\n",
        "plt.ylabel(\"F-Score (Class 1)\")\n",
        "plt.title(\"Comparison of F-Scores for Different Sampling Techniques\")\n",
        "plt.xticks(rotation=45, ha='right')  # Rotate x-axis labels for better readability\n",
        "plt.tight_layout()  # Adjust layout to prevent labels from overlapping\n",
        "plt.show()"
      ]
    }
  ],
  "metadata": {
    "kernelspec": {
      "display_name": "Python 3 (ipykernel)",
      "language": "python",
      "name": "python3"
    },
    "language_info": {
      "codemirror_mode": {
        "name": "ipython",
        "version": 3
      },
      "file_extension": ".py",
      "mimetype": "text/x-python",
      "name": "python",
      "nbconvert_exporter": "python",
      "pygments_lexer": "ipython3",
      "version": "3.9.21"
    },
    "colab": {
      "provenance": []
    }
  },
  "nbformat": 4,
  "nbformat_minor": 0
}